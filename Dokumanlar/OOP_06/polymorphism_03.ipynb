{
 "cells": [
  {
   "cell_type": "markdown",
   "metadata": {},
   "source": [
    "# Polymorphism"
   ]
  },
  {
   "cell_type": "code",
   "execution_count": 3,
   "metadata": {},
   "outputs": [
    {
     "name": "stdout",
     "output_type": "stream",
     "text": [
      "B Sınıfın Çalıştım\n",
      "A Sınıfından Çalıştım\n"
     ]
    }
   ],
   "source": [
    "class A: # parent\n",
    "    def __init__(self):\n",
    "        self.a = \"A\"\n",
    "    \n",
    "    def soyleA(self):\n",
    "        print(self.a)\n",
    "\n",
    "    def soyle(self):\n",
    "        print(\"A Sınıfından Çalıştım\")\n",
    "\n",
    "class B(A): # child\n",
    "    def __init__(self): # overload\n",
    "        super().__init__() # ata sınıfın fonksiyonuna erişim\n",
    "        self.b = \"B\"\n",
    "\n",
    "    def soyle(self): # override\n",
    "        print(\"B Sınıfın Çalıştım\")\n",
    "\n",
    "    def selam(self):\n",
    "        print(\"Hiiiii\")\n",
    "n1 = B()\n",
    "n2 = A()\n",
    "n1.soyle()\n",
    "n2.soyle()"
   ]
  },
  {
   "cell_type": "code",
   "execution_count": 5,
   "metadata": {},
   "outputs": [
    {
     "name": "stdout",
     "output_type": "stream",
     "text": [
      "B Sınıfın Çalıştım\n",
      "B Sınıfın Çalıştım\n"
     ]
    }
   ],
   "source": [
    "n1 = B()\n",
    "n2 = B()\n",
    "liste = [n1,n2]\n",
    "def fonk(l1):\n",
    "    for item in l1:\n",
    "        item.soyle()\n",
    "fonk(liste)"
   ]
  },
  {
   "cell_type": "code",
   "execution_count": null,
   "metadata": {},
   "outputs": [],
   "source": []
  }
 ],
 "metadata": {
  "kernelspec": {
   "display_name": "Python 3",
   "language": "python",
   "name": "python3"
  },
  "language_info": {
   "codemirror_mode": {
    "name": "ipython",
    "version": 3
   },
   "file_extension": ".py",
   "mimetype": "text/x-python",
   "name": "python",
   "nbconvert_exporter": "python",
   "pygments_lexer": "ipython3",
   "version": "3.12.4"
  }
 },
 "nbformat": 4,
 "nbformat_minor": 2
}
