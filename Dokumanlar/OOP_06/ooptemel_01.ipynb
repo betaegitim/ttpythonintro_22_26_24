{
 "cells": [
  {
   "cell_type": "markdown",
   "metadata": {},
   "source": [
    "# OOP Temel\n",
    "* Sınıf Tanımı - Class\n",
    "* Nesne Tanımı - Instance - Örnek\n",
    "* Class Attributes and Class Methods  - Sınıf Özellikleri ve Metotları\n",
    "* `__init__` fonksiyonu\n",
    "* Instance Attributes and Instance Methods - Örnek Özellikleri ve Metotları"
   ]
  },
  {
   "cell_type": "markdown",
   "metadata": {},
   "source": [
    "## Class"
   ]
  },
  {
   "cell_type": "code",
   "execution_count": 1,
   "metadata": {},
   "outputs": [
    {
     "name": "stdout",
     "output_type": "stream",
     "text": [
      "<class 'type'>\n"
     ]
    }
   ],
   "source": [
    "class Sinif:\n",
    "    pass\n",
    "print(type(Sinif))"
   ]
  },
  {
   "cell_type": "markdown",
   "metadata": {},
   "source": [
    "## Instance - Nesne - Object - Örnek"
   ]
  },
  {
   "cell_type": "code",
   "execution_count": 2,
   "metadata": {},
   "outputs": [
    {
     "name": "stdout",
     "output_type": "stream",
     "text": [
      "<class '__main__.Sinif'>\n",
      "<class '__main__.Sinif'>\n"
     ]
    }
   ],
   "source": [
    "Sinif() # => Instance \n",
    "obj1 = Sinif() # => Instance\n",
    "print(type(Sinif()))\n",
    "print(type(obj1))"
   ]
  },
  {
   "cell_type": "markdown",
   "metadata": {},
   "source": [
    "## Class Attribute - Class Method"
   ]
  },
  {
   "cell_type": "code",
   "execution_count": 9,
   "metadata": {},
   "outputs": [],
   "source": [
    "class Sinif:\n",
    "    sinif_ozelligi = \"Sınıf Bilgisi Tutuluyor\"\n",
    "\n",
    "    @classmethod\n",
    "    def sinifmetodu(cls):\n",
    "        print(\"Metot Çağırıldı\",cls.sinif_ozelligi)\n"
   ]
  },
  {
   "cell_type": "code",
   "execution_count": 10,
   "metadata": {},
   "outputs": [
    {
     "name": "stdout",
     "output_type": "stream",
     "text": [
      "Sınıf Bilgisi Tutuluyor\n",
      "Sınıf Bilgisi Tutuluyor\n",
      "Sınıf Bilgisi Tutuluyor\n",
      "Metot Çağırıldı Sınıf Bilgisi Tutuluyor\n",
      "Metot Çağırıldı Sınıf Bilgisi Tutuluyor\n",
      "Metot Çağırıldı Sınıf Bilgisi Tutuluyor\n"
     ]
    }
   ],
   "source": [
    "obj1 = Sinif()\n",
    "obj2 = Sinif()\n",
    "print(obj1.sinif_ozelligi)\n",
    "print(obj2.sinif_ozelligi)\n",
    "print(Sinif.sinif_ozelligi)\n",
    "obj1.sinifmetodu()\n",
    "obj2.sinifmetodu()\n",
    "Sinif.sinifmetodu()"
   ]
  },
  {
   "cell_type": "markdown",
   "metadata": {},
   "source": [
    "## `__init__` Fonksiyonu => Constructor => Yapıcı"
   ]
  },
  {
   "cell_type": "code",
   "execution_count": 12,
   "metadata": {},
   "outputs": [],
   "source": [
    "class Sinif:\n",
    "    sinif_ozelligi = \"Sınıf Bilgisi Tutuluyor\"\n",
    "    def __init__(self,param1): # constructor\n",
    "        self.param1 = param1 \n",
    "\n",
    "    def ornekmethod(self):\n",
    "        print(\"Nesneye Göre Metot\",self.param1)\n",
    "\n",
    "    @classmethod\n",
    "    def sinifmetodu(cls):\n",
    "        print(\"Metot Çağırıldı\",cls.sinif_ozelligi)"
   ]
  },
  {
   "cell_type": "code",
   "execution_count": 21,
   "metadata": {},
   "outputs": [
    {
     "name": "stdout",
     "output_type": "stream",
     "text": [
      "Obj1\n",
      "Obj2\n",
      "Nesneye Göre Metot Obj1\n",
      "Nesneye Göre Metot Obj2\n"
     ]
    }
   ],
   "source": [
    "obj1 = Sinif(\"Obj1\")\n",
    "obj2 = Sinif(\"Obj2\")\n",
    "print(obj1.param1)\n",
    "print(obj2.param1)\n",
    "obj1.ornekmethod()\n",
    "obj2.ornekmethod()"
   ]
  },
  {
   "cell_type": "markdown",
   "metadata": {},
   "source": [
    "Örnek1:"
   ]
  },
  {
   "cell_type": "code",
   "execution_count": 25,
   "metadata": {},
   "outputs": [],
   "source": [
    "class PetClass:\n",
    "    veterinerAdi = \"OrnekVet\"\n",
    "    def __init__(self,isim,cinsi,turu):\n",
    "        self.isim = isim\n",
    "        self.cinsi = cinsi\n",
    "        self.turu = turu\n",
    "\n",
    "    def isimSoyle(self):\n",
    "        print(self.isim)\n",
    "    \n",
    "    def kayit(self):\n",
    "        print(self.isim,\"veterine giriş yaptı\")\n",
    "\n",
    "    def asiKayit(self):\n",
    "        print(self.isim,\"Aşı Oldu\")\n"
   ]
  },
  {
   "cell_type": "code",
   "execution_count": 29,
   "metadata": {},
   "outputs": [
    {
     "name": "stdout",
     "output_type": "stream",
     "text": [
      "<class 'str'>\n",
      "<class 'str'>\n",
      "Gofret\n",
      "Melek\n",
      "Gofret Aşı Oldu\n",
      "Melek Aşı Oldu\n"
     ]
    },
    {
     "data": {
      "text/plain": [
       "'OrnekVet'"
      ]
     },
     "execution_count": 29,
     "metadata": {},
     "output_type": "execute_result"
    }
   ],
   "source": [
    "c1 = PetClass(\"Gofret\",\"Köpek\",\"Alman Kurdu\")\n",
    "c2 = PetClass(\"Melek\",\"Kedi\",\"Tekir\")\n",
    "c1.isimSoyle()\n",
    "c2.isimSoyle()\n",
    "c1.asiKayit()\n",
    "c2.asiKayit()\n",
    "PetClass.veterinerAdi"
   ]
  },
  {
   "cell_type": "code",
   "execution_count": null,
   "metadata": {},
   "outputs": [],
   "source": []
  }
 ],
 "metadata": {
  "kernelspec": {
   "display_name": "Python 3",
   "language": "python",
   "name": "python3"
  },
  "language_info": {
   "codemirror_mode": {
    "name": "ipython",
    "version": 3
   },
   "file_extension": ".py",
   "mimetype": "text/x-python",
   "name": "python",
   "nbconvert_exporter": "python",
   "pygments_lexer": "ipython3",
   "version": "3.12.4"
  }
 },
 "nbformat": 4,
 "nbformat_minor": 2
}
