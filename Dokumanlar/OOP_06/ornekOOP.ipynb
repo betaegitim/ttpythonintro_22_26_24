{
 "cells": [
  {
   "cell_type": "code",
   "execution_count": 14,
   "metadata": {},
   "outputs": [],
   "source": [
    "import random\n",
    "import time"
   ]
  },
  {
   "cell_type": "code",
   "execution_count": 15,
   "metadata": {},
   "outputs": [],
   "source": [
    "from abc import ABC,abstractmethod\n",
    "class Hero(ABC):\n",
    "    @abstractmethod\n",
    "    def vur(self):\n",
    "        pass\n",
    "    @abstractmethod\n",
    "    def savunma(self):\n",
    "        pass\n",
    "\n",
    "    @abstractmethod\n",
    "    def darbe(self):\n",
    "        pass \n",
    "    @abstractmethod\n",
    "    def saglik(self):\n",
    "        pass "
   ]
  },
  {
   "cell_type": "code",
   "execution_count": 16,
   "metadata": {},
   "outputs": [],
   "source": [
    "import random\n",
    "class MarvelHero(Hero):\n",
    "    evren = \"Marvel Hero\"\n",
    "    def __init__(self,adi,guc,savunma,saglik):\n",
    "        self.adi = adi\n",
    "        self.guc = guc\n",
    "        self.savunma = savunma\n",
    "        self.saglik = saglik \n",
    "\n",
    "    def vur(self):\n",
    "        return self.guc\n",
    "\n",
    "    def darbe(self,guc):\n",
    "        self.saglik -= guc\n",
    "\n",
    "    def savunma(self,guc):\n",
    "        guc -= random.randint(10,100)\n",
    "        return guc\n",
    "\n",
    "    def saglik(self):\n",
    "        return self.saglik\n",
    "\n",
    "    def __str__(self):\n",
    "        return f\"{self.adi} Sağlık = {self.saglik}, Güç = {self.guc} Evren = {MarvelHero.evren}\""
   ]
  },
  {
   "cell_type": "code",
   "execution_count": 17,
   "metadata": {},
   "outputs": [],
   "source": [
    "\n",
    "class DCHero(Hero):\n",
    "    evren = \"DC Hero\"\n",
    "    def __init__(self,adi,guc,savunma,saglik):\n",
    "        self.adi = adi\n",
    "        self.guc = guc\n",
    "        self.savunma = savunma\n",
    "        self.saglik = saglik \n",
    "\n",
    "    def vur(self):\n",
    "        return self.guc\n",
    "\n",
    "    def darbe(self,guc):\n",
    "        self.saglik -= guc\n",
    "\n",
    "    def savunma(self,guc):\n",
    "        guc -= random.randint(10,100)\n",
    "        return guc\n",
    "\n",
    "    def saglik(self):\n",
    "        return self.saglik\n",
    "\n",
    "    def __str__(self):\n",
    "        return f\"{self.adi} Sağlık = {self.saglik}, Güç = {self.guc} Evren = {MarvelHero.evren}\""
   ]
  },
  {
   "cell_type": "code",
   "execution_count": 18,
   "metadata": {},
   "outputs": [],
   "source": [
    "class Deadpool(MarvelHero):\n",
    "    def __init__(self):\n",
    "        super().__init__(\"Deadpool\",1000,True,10000)\n",
    "        print(\"Beni Seçtiğin için seni öptüm\")\n",
    "\n",
    "class SpiderMan(MarvelHero):\n",
    "    def __init__(self):\n",
    "        super().__init__(\"SpiderMan\",1200,False,9000)\n",
    "        print(\"Ağın kilosu kaç para farkında mısın?\")\n",
    "    \n",
    "class Hulk(MarvelHero):\n",
    "    def __init__(self):\n",
    "        super().__init__(\"Hulk\",1500,False,12000)\n",
    "        print(\"Beni sinir etme bak geliyor yeşil\")"
   ]
  },
  {
   "cell_type": "code",
   "execution_count": 19,
   "metadata": {},
   "outputs": [],
   "source": [
    "class SuperMan(DCHero):\n",
    "    def __init__(self):\n",
    "        super().__init__(\"SuperMan\",1000,True,10000)\n",
    "        print(\"Ben yetim\")\n",
    "\n",
    "class Batman(DCHero):\n",
    "    def __init__(self):\n",
    "        super().__init__(\"Batman\",1200,False,9000)\n",
    "        print(\"Kanadımı kırdılar uçamadım anne\")\n",
    "    \n",
    "class Flash(DCHero):\n",
    "    def __init__(self):\n",
    "        super().__init__(\"Flash\",1500,False,12000)\n",
    "        print(\"Hoop Burdayım\")"
   ]
  },
  {
   "cell_type": "code",
   "execution_count": 22,
   "metadata": {},
   "outputs": [
    {
     "name": "stdout",
     "output_type": "stream",
     "text": [
      "Ağın kilosu kaç para farkında mısın?\n",
      "Hoop Burdayım\n",
      "SpiderMan Sağlık = 7500, Güç = 1200 Evren = Marvel Hero\n",
      "Flash Sağlık = 10800, Güç = 1500 Evren = Marvel Hero\n"
     ]
    },
    {
     "name": "stdout",
     "output_type": "stream",
     "text": [
      "SpiderMan Sağlık = 6000, Güç = 1200 Evren = Marvel Hero\n",
      "Flash Sağlık = 9600, Güç = 1500 Evren = Marvel Hero\n",
      "SpiderMan Sağlık = 4500, Güç = 1200 Evren = Marvel Hero\n",
      "Flash Sağlık = 8400, Güç = 1500 Evren = Marvel Hero\n",
      "SpiderMan Sağlık = 3000, Güç = 1200 Evren = Marvel Hero\n",
      "Flash Sağlık = 7200, Güç = 1500 Evren = Marvel Hero\n",
      "SpiderMan Sağlık = 1500, Güç = 1200 Evren = Marvel Hero\n",
      "Flash Sağlık = 6000, Güç = 1500 Evren = Marvel Hero\n",
      "SpiderMan Sağlık = 0, Güç = 1200 Evren = Marvel Hero\n",
      "Flash Sağlık = 4800, Güç = 1500 Evren = Marvel Hero\n",
      "Flash kazandı\n"
     ]
    }
   ],
   "source": [
    "mhList = [Deadpool,SpiderMan,Hulk]\n",
    "dcList = [SuperMan,Batman,Flash]\n",
    "P1 = random.choice(mhList)()\n",
    "P2 = random.choice(dcList)()\n",
    "while P1.saglik > 0 and P2.saglik >0:\n",
    "    time.sleep(0.5)\n",
    "    P1.darbe(P2.guc)\n",
    "    P2.darbe(P1.guc)\n",
    "    print(P1,P2,sep=\"\\n\")\n",
    "else:\n",
    "    if P1.saglik > P2.saglik:\n",
    "        print(P1.adi,\"kazandı\")\n",
    "    elif P1.saglik < P2.saglik:\n",
    "        print(P2.adi,\"kazandı\")\n",
    "    else:\n",
    "        print(\"Berabere\")\n"
   ]
  },
  {
   "cell_type": "code",
   "execution_count": null,
   "metadata": {},
   "outputs": [],
   "source": []
  }
 ],
 "metadata": {
  "kernelspec": {
   "display_name": "Python 3",
   "language": "python",
   "name": "python3"
  },
  "language_info": {
   "codemirror_mode": {
    "name": "ipython",
    "version": 3
   },
   "file_extension": ".py",
   "mimetype": "text/x-python",
   "name": "python",
   "nbconvert_exporter": "python",
   "pygments_lexer": "ipython3",
   "version": "3.12.4"
  }
 },
 "nbformat": 4,
 "nbformat_minor": 2
}
