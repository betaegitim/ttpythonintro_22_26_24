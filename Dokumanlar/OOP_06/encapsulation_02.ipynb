{
 "cells": [
  {
   "cell_type": "markdown",
   "metadata": {},
   "source": [
    "# Encapsulation"
   ]
  },
  {
   "cell_type": "markdown",
   "metadata": {},
   "source": [
    "```\n",
    "__gizli => Gizli\n",
    "__gizli_ => Gizli\n",
    "__gizli__ => Gizli DEĞİLDİR\n",
    "_yari_gizli => Gizli DEĞİLDİR Programcının kendine yaptığı hatırlatma\n",
    "```"
   ]
  },
  {
   "cell_type": "code",
   "execution_count": 2,
   "metadata": {},
   "outputs": [],
   "source": [
    "class A:\n",
    "    def __init__(self):\n",
    "        self.__gizli = \"GizliA\"\n",
    "\n",
    "n1 = A()\n",
    "# n1.__gizli # hata verir"
   ]
  },
  {
   "cell_type": "code",
   "execution_count": 3,
   "metadata": {},
   "outputs": [
    {
     "data": {
      "text/plain": [
       "'GizliA'"
      ]
     },
     "execution_count": 3,
     "metadata": {},
     "output_type": "execute_result"
    }
   ],
   "source": [
    "class A:\n",
    "    def __init__(self):\n",
    "        self.__gizli = \"GizliA\"\n",
    "\n",
    "    def gizli(self): # getter\n",
    "        return self.__gizli\n",
    "n1 = A()\n",
    "n1.gizli()"
   ]
  },
  {
   "cell_type": "code",
   "execution_count": 4,
   "metadata": {},
   "outputs": [
    {
     "data": {
      "text/plain": [
       "'GizliA'"
      ]
     },
     "execution_count": 4,
     "metadata": {},
     "output_type": "execute_result"
    }
   ],
   "source": [
    "class A:\n",
    "    def __init__(self):\n",
    "        self.__gizli = \"GizliA\"\n",
    "\n",
    "    @property\n",
    "    def gizli(self): # getter\n",
    "        return self.__gizli\n",
    "n1 = A()\n",
    "n1.gizli"
   ]
  },
  {
   "cell_type": "code",
   "execution_count": 5,
   "metadata": {},
   "outputs": [
    {
     "name": "stdout",
     "output_type": "stream",
     "text": [
      "GizliA\n",
      "25\n"
     ]
    }
   ],
   "source": [
    "class A:\n",
    "    def __init__(self):\n",
    "        self.__gizli = \"GizliA\"\n",
    "\n",
    "    @property\n",
    "    def gizli(self): # getter\n",
    "        return self.__gizli\n",
    "\n",
    "    @gizli.setter\n",
    "    def gizli(self,param):\n",
    "        self.__gizli = param\n",
    "\n",
    "n1 = A()\n",
    "print(n1.gizli)\n",
    "n1.gizli = 25\n",
    "print(n1.gizli)"
   ]
  },
  {
   "cell_type": "code",
   "execution_count": 6,
   "metadata": {},
   "outputs": [
    {
     "name": "stdout",
     "output_type": "stream",
     "text": [
      "GizliA\n"
     ]
    },
    {
     "ename": "ValueError",
     "evalue": "parametre 1 ile 50 sayıları arasında olmalıdır",
     "output_type": "error",
     "traceback": [
      "\u001b[0;31m---------------------------------------------------------------------------\u001b[0m",
      "\u001b[0;31mValueError\u001b[0m                                Traceback (most recent call last)",
      "Cell \u001b[0;32mIn[6], line 18\u001b[0m\n\u001b[1;32m     16\u001b[0m n1 \u001b[38;5;241m=\u001b[39m A()\n\u001b[1;32m     17\u001b[0m \u001b[38;5;28mprint\u001b[39m(n1\u001b[38;5;241m.\u001b[39mgizli)\n\u001b[0;32m---> 18\u001b[0m \u001b[43mn1\u001b[49m\u001b[38;5;241;43m.\u001b[39;49m\u001b[43mgizli\u001b[49m \u001b[38;5;241m=\u001b[39m \u001b[38;5;241m68\u001b[39m\n\u001b[1;32m     19\u001b[0m \u001b[38;5;28mprint\u001b[39m(n1\u001b[38;5;241m.\u001b[39mgizli)\n",
      "Cell \u001b[0;32mIn[6], line 14\u001b[0m, in \u001b[0;36mA.gizli\u001b[0;34m(self, param)\u001b[0m\n\u001b[1;32m     12\u001b[0m     \u001b[38;5;28mself\u001b[39m\u001b[38;5;241m.\u001b[39m__gizli \u001b[38;5;241m=\u001b[39m param\n\u001b[1;32m     13\u001b[0m \u001b[38;5;28;01melse\u001b[39;00m:\n\u001b[0;32m---> 14\u001b[0m     \u001b[38;5;28;01mraise\u001b[39;00m \u001b[38;5;167;01mValueError\u001b[39;00m(\u001b[38;5;124m\"\u001b[39m\u001b[38;5;124mparametre 1 ile 50 sayıları arasında olmalıdır\u001b[39m\u001b[38;5;124m\"\u001b[39m)\n",
      "\u001b[0;31mValueError\u001b[0m: parametre 1 ile 50 sayıları arasında olmalıdır"
     ]
    }
   ],
   "source": [
    "class A:\n",
    "    def __init__(self):\n",
    "        self.__gizli = \"GizliA\"\n",
    "\n",
    "    @property\n",
    "    def gizli(self): # getter\n",
    "        return self.__gizli\n",
    "\n",
    "    @gizli.setter\n",
    "    def gizli(self,param):\n",
    "        if param in range(1,51):\n",
    "            self.__gizli = param\n",
    "        else:\n",
    "            raise ValueError(\"parametre 1 ile 50 sayıları arasında olmalıdır\")\n",
    "\n",
    "n1 = A()\n",
    "print(n1.gizli)\n",
    "n1.gizli = 68\n",
    "print(n1.gizli)"
   ]
  },
  {
   "cell_type": "code",
   "execution_count": 13,
   "metadata": {},
   "outputs": [
    {
     "name": "stdout",
     "output_type": "stream",
     "text": [
      "GizliA\n",
      "49\n"
     ]
    }
   ],
   "source": [
    "class A:\n",
    "    def __init__(self):\n",
    "        self.__gizli = \"GizliA\"\n",
    "\n",
    "    @property\n",
    "    def gizli(self): # getter\n",
    "        return self.__gizli\n",
    "\n",
    "    @gizli.setter\n",
    "    def gizli(self,param):\n",
    "        if param in range(1,51):\n",
    "            self.__gizli = param\n",
    "        else:\n",
    "            raise ValueError(\"parametre 1 ile 50 sayıları arasında olmalıdır\")\n",
    "\n",
    "n1 = A()\n",
    "print(n1.gizli)\n",
    "n1.gizli = 49\n",
    "# n1.gizli = 68\n",
    "print(n1.gizli)"
   ]
  },
  {
   "cell_type": "code",
   "execution_count": 14,
   "metadata": {},
   "outputs": [
    {
     "name": "stdout",
     "output_type": "stream",
     "text": [
      "GizliA\n",
      "49\n",
      "-49\n"
     ]
    }
   ],
   "source": [
    "class A:\n",
    "    def __init__(self):\n",
    "        self.__gizli = \"GizliA\"\n",
    "\n",
    "    @property\n",
    "    def gizli(self): # getter\n",
    "        return self.__gizli\n",
    "\n",
    "    @gizli.setter\n",
    "    def gizli(self,param):\n",
    "        if param in range(1,51):\n",
    "            self.__gizli = param\n",
    "        else:\n",
    "            raise ValueError(\"parametre 1 ile 50 sayıları arasında olmalıdır\")\n",
    "\n",
    "    @gizli.deleter\n",
    "    def gizli(self):\n",
    "        self.__gizli *= -1\n",
    "n1 = A()\n",
    "print(n1.gizli)\n",
    "n1.gizli = 49\n",
    "# n1.gizli = 68\n",
    "print(n1.gizli)\n",
    "del n1.gizli\n",
    "print(n1.gizli)"
   ]
  },
  {
   "cell_type": "code",
   "execution_count": 15,
   "metadata": {},
   "outputs": [
    {
     "name": "stdout",
     "output_type": "stream",
     "text": [
      "GizliA\n",
      "49\n",
      "-49\n"
     ]
    }
   ],
   "source": [
    "class A:\n",
    "    def __init__(self,yetki):\n",
    "        self.__gizli = \"GizliA\"\n",
    "        self.yetki = yetki\n",
    "    @property\n",
    "    def gizli(self): # getter\n",
    "        if self.yetki == 1:\n",
    "            return self.__gizli\n",
    "        else:\n",
    "            raise Exception(\"Yetki Hatası\")\n",
    "\n",
    "    @gizli.setter\n",
    "    def gizli(self,param):\n",
    "        if self.yetki == 1:\n",
    "            if param in range(1,51):\n",
    "                self.__gizli = param\n",
    "            else:\n",
    "                raise ValueError(\"parametre 1 ile 50 sayıları arasında olmalıdır\")\n",
    "        else:\n",
    "            raise Exception(\"Yetki Hatası\")\n",
    "            \n",
    "\n",
    "    @gizli.deleter\n",
    "    def gizli(self):\n",
    "        if self.yetki == 1:\n",
    "            self.__gizli *= -1\n",
    "        else:\n",
    "            raise Exception(\"Yetki Hatası\")\n",
    "n1 = A(1)\n",
    "print(n1.gizli)\n",
    "n1.gizli = 49\n",
    "# n1.gizli = 68\n",
    "print(n1.gizli)\n",
    "del n1.gizli\n",
    "print(n1.gizli)"
   ]
  },
  {
   "cell_type": "code",
   "execution_count": 16,
   "metadata": {},
   "outputs": [
    {
     "ename": "Exception",
     "evalue": "Yetki Hatası",
     "output_type": "error",
     "traceback": [
      "\u001b[0;31m---------------------------------------------------------------------------\u001b[0m",
      "\u001b[0;31mException\u001b[0m                                 Traceback (most recent call last)",
      "Cell \u001b[0;32mIn[16], line 2\u001b[0m\n\u001b[1;32m      1\u001b[0m n2 \u001b[38;5;241m=\u001b[39m A(\u001b[38;5;241m2\u001b[39m)\n\u001b[0;32m----> 2\u001b[0m \u001b[38;5;28mprint\u001b[39m(\u001b[43mn2\u001b[49m\u001b[38;5;241;43m.\u001b[39;49m\u001b[43mgizli\u001b[49m)\n\u001b[1;32m      3\u001b[0m n2\u001b[38;5;241m.\u001b[39mgizli \u001b[38;5;241m=\u001b[39m \u001b[38;5;241m49\u001b[39m\n\u001b[1;32m      4\u001b[0m \u001b[38;5;66;03m# n1.gizli = 68\u001b[39;00m\n",
      "Cell \u001b[0;32mIn[15], line 10\u001b[0m, in \u001b[0;36mA.gizli\u001b[0;34m(self)\u001b[0m\n\u001b[1;32m      8\u001b[0m     \u001b[38;5;28;01mreturn\u001b[39;00m \u001b[38;5;28mself\u001b[39m\u001b[38;5;241m.\u001b[39m__gizli\n\u001b[1;32m      9\u001b[0m \u001b[38;5;28;01melse\u001b[39;00m:\n\u001b[0;32m---> 10\u001b[0m     \u001b[38;5;28;01mraise\u001b[39;00m \u001b[38;5;167;01mException\u001b[39;00m(\u001b[38;5;124m\"\u001b[39m\u001b[38;5;124mYetki Hatası\u001b[39m\u001b[38;5;124m\"\u001b[39m)\n",
      "\u001b[0;31mException\u001b[0m: Yetki Hatası"
     ]
    }
   ],
   "source": [
    "n2 = A(2)\n",
    "print(n2.gizli)\n",
    "n2.gizli = 49\n",
    "# n1.gizli = 68\n",
    "print(n2.gizli)\n",
    "del n2.gizli\n",
    "print(n2.gizli)"
   ]
  },
  {
   "cell_type": "code",
   "execution_count": null,
   "metadata": {},
   "outputs": [],
   "source": []
  }
 ],
 "metadata": {
  "kernelspec": {
   "display_name": "Python 3",
   "language": "python",
   "name": "python3"
  },
  "language_info": {
   "codemirror_mode": {
    "name": "ipython",
    "version": 3
   },
   "file_extension": ".py",
   "mimetype": "text/x-python",
   "name": "python",
   "nbconvert_exporter": "python",
   "pygments_lexer": "ipython3",
   "version": "3.12.4"
  }
 },
 "nbformat": 4,
 "nbformat_minor": 2
}
