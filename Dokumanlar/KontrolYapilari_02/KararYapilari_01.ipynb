{
 "cells": [
  {
   "cell_type": "markdown",
   "metadata": {},
   "source": [
    "# Karar Yapıları\n",
    "* girinti => indentitation\n",
    "* if\n",
    "* else\n",
    "* elif\n",
    "* tek satır if kullanımı\n"
   ]
  },
  {
   "cell_type": "markdown",
   "metadata": {},
   "source": [
    "## indentitation\n",
    "```\n",
    "{} begin end,sub enbsub, if endif,()\n",
    "python indetitation :\n",
    "    kod bloğu başar\n",
    "```"
   ]
  },
  {
   "cell_type": "markdown",
   "metadata": {},
   "source": [
    "## if"
   ]
  },
  {
   "cell_type": "code",
   "execution_count": 2,
   "metadata": {},
   "outputs": [
    {
     "name": "stdout",
     "output_type": "stream",
     "text": [
      "Program çalışmaya devam ediyor\n"
     ]
    }
   ],
   "source": [
    "a = 3\n",
    "if a == 2:\n",
    "    print(\"doğru\")\n",
    "    print(True)\n",
    "print(\"Program çalışmaya devam ediyor\")"
   ]
  },
  {
   "cell_type": "code",
   "execution_count": 6,
   "metadata": {},
   "outputs": [
    {
     "name": "stdout",
     "output_type": "stream",
     "text": [
      "AnaDolu\n"
     ]
    }
   ],
   "source": [
    "a = -2\n",
    "liste = [1,2,3]\n",
    "b = liste.sort()\n",
    "if a:\n",
    "    print(\"AnaDolu\")\n",
    "if b:\n",
    "    print(\"Dolu\")"
   ]
  },
  {
   "cell_type": "code",
   "execution_count": null,
   "metadata": {},
   "outputs": [],
   "source": []
  }
 ],
 "metadata": {
  "kernelspec": {
   "display_name": "Python 3",
   "language": "python",
   "name": "python3"
  },
  "language_info": {
   "codemirror_mode": {
    "name": "ipython",
    "version": 3
   },
   "file_extension": ".py",
   "mimetype": "text/x-python",
   "name": "python",
   "nbconvert_exporter": "python",
   "pygments_lexer": "ipython3",
   "version": "3.12.4"
  }
 },
 "nbformat": 4,
 "nbformat_minor": 2
}
