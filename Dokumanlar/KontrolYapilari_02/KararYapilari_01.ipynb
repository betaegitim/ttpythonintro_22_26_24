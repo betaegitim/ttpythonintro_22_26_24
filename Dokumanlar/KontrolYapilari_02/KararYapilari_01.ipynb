{
 "cells": [
  {
   "cell_type": "markdown",
   "metadata": {},
   "source": [
    "# Karar Yapıları\n",
    "* girinti => indentitation\n",
    "* if\n",
    "* else\n",
    "* elif\n",
    "* tek satır if kullanımı\n"
   ]
  },
  {
   "cell_type": "markdown",
   "metadata": {},
   "source": [
    "## indentitation\n",
    "```\n",
    "{} begin end,sub enbsub, if endif,()\n",
    "python indetitation :\n",
    "    kod bloğu başar\n",
    "```"
   ]
  },
  {
   "cell_type": "markdown",
   "metadata": {},
   "source": [
    "## if"
   ]
  },
  {
   "cell_type": "code",
   "execution_count": 1,
   "metadata": {},
   "outputs": [
    {
     "name": "stdout",
     "output_type": "stream",
     "text": [
      "Program çalışmaya devam ediyor\n"
     ]
    }
   ],
   "source": [
    "a = 3\n",
    "if a == 2:\n",
    "    print(\"doğru\")\n",
    "    print(True)\n",
    "print(\"Program çalışmaya devam ediyor\")"
   ]
  },
  {
   "cell_type": "code",
   "execution_count": 2,
   "metadata": {},
   "outputs": [
    {
     "name": "stdout",
     "output_type": "stream",
     "text": [
      "AnaDolu\n"
     ]
    }
   ],
   "source": [
    "a = -2\n",
    "liste = [1,2,3]\n",
    "b = liste.sort()\n",
    "if a:\n",
    "    print(\"AnaDolu\")\n",
    "if b:\n",
    "    print(\"Dolu\")"
   ]
  },
  {
   "cell_type": "code",
   "execution_count": 7,
   "metadata": {},
   "outputs": [
    {
     "name": "stdout",
     "output_type": "stream",
     "text": [
      "f harfi var\n"
     ]
    }
   ],
   "source": [
    "liste = [\"a\",\"b\",\"c\",\"d\",\"e\"]\n",
    "if \"e\" in liste:\n",
    "    print(\"f harfi var\")"
   ]
  },
  {
   "cell_type": "code",
   "execution_count": 8,
   "metadata": {},
   "outputs": [
    {
     "name": "stdout",
     "output_type": "stream",
     "text": [
      "listede var\n"
     ]
    }
   ],
   "source": [
    "liste = [1,2,3,4,5,6]\n",
    "if 2 in liste:\n",
    "    print(\"listede var\")"
   ]
  },
  {
   "cell_type": "code",
   "execution_count": 9,
   "metadata": {},
   "outputs": [
    {
     "name": "stdout",
     "output_type": "stream",
     "text": [
      "harf vardır\n"
     ]
    }
   ],
   "source": [
    "metin = \"Çağının ötesinde\"\n",
    "if \"a\" in metin:\n",
    "    print(\"harf vardır\")"
   ]
  },
  {
   "cell_type": "code",
   "execution_count": 10,
   "metadata": {},
   "outputs": [
    {
     "name": "stdout",
     "output_type": "stream",
     "text": [
      "İki\n"
     ]
    }
   ],
   "source": [
    "s1 = {\"1\":\"Bir\",\"2\":\"İki\",\"3\":\"Üç\",\"5\":\"Beş\"}\n",
    "if \"2\" in s1:\n",
    "    print(s1[\"2\"])"
   ]
  },
  {
   "cell_type": "code",
   "execution_count": null,
   "metadata": {},
   "outputs": [],
   "source": [
    "a = 56\n",
    "if a % 2 == 0:\n",
    "    print(\"çift Sayı\")"
   ]
  },
  {
   "cell_type": "code",
   "execution_count": 12,
   "metadata": {},
   "outputs": [],
   "source": [
    "a = input(\"Sayıyı Giriniz:\")\n",
    "if a and a.isdigit():\n",
    "    a = int(a)\n",
    "    if a % 2 == 0:\n",
    "        print(\"Çift Sayı\")"
   ]
  },
  {
   "cell_type": "code",
   "execution_count": 15,
   "metadata": {},
   "outputs": [],
   "source": [
    "liste = [1,2,3,2,2,3,2,1]\n",
    "if isinstance(liste[5],int):\n",
    "    if liste[5] > 6:\n",
    "        pass # daha sonra yazacağım ya da pass geç\n"
   ]
  },
  {
   "cell_type": "code",
   "execution_count": 16,
   "metadata": {},
   "outputs": [
    {
     "data": {
      "text/plain": [
       "[2916, 144, 1024, 4, 1024, 2916]"
      ]
     },
     "execution_count": 16,
     "metadata": {},
     "output_type": "execute_result"
    }
   ],
   "source": [
    "# liste = [23,43,54,12,32,1,2,32,43,54,]\n",
    "# liste = [item**2 for item in liste if item % 2 == 0]\n",
    "# liste"
   ]
  },
  {
   "cell_type": "markdown",
   "metadata": {},
   "source": [
    "## else"
   ]
  },
  {
   "cell_type": "code",
   "execution_count": 17,
   "metadata": {},
   "outputs": [
    {
     "name": "stdout",
     "output_type": "stream",
     "text": [
      "Tek Sayı\n"
     ]
    }
   ],
   "source": [
    "a = input(\"Sayıyı Giriniz:\")\n",
    "if a and a.isdigit():\n",
    "    a = int(a)\n",
    "    if a % 2 == 0:\n",
    "        print(\"Çift Sayı\")\n",
    "    else:\n",
    "        print(\"Tek Sayı\")\n",
    "else:\n",
    "    print(\"Giriş Hatası\")"
   ]
  },
  {
   "cell_type": "markdown",
   "metadata": {},
   "source": [
    "----------------------------------\n",
    "python içerisinde yer alana rezerve kelimeleri aşağıdaki kodu çalıştırarak bulabilirsiniz"
   ]
  },
  {
   "cell_type": "code",
   "execution_count": 18,
   "metadata": {},
   "outputs": [
    {
     "name": "stdout",
     "output_type": "stream",
     "text": [
      "False-None-True-and-as-assert-async-await-break-class-continue-def-del-elif-else-except-finally-for-from-global-if-import-in-is-lambda-nonlocal-not-or-pass-raise-return-try-while-with-yield\n"
     ]
    }
   ],
   "source": [
    "import keyword\n",
    "print(*keyword.kwlist,sep=\"-\")"
   ]
  },
  {
   "cell_type": "markdown",
   "metadata": {},
   "source": [
    "-----------------"
   ]
  },
  {
   "cell_type": "markdown",
   "metadata": {},
   "source": [
    "## elif"
   ]
  },
  {
   "cell_type": "code",
   "execution_count": 19,
   "metadata": {},
   "outputs": [],
   "source": [
    "\"\"\"\n",
    "100-80 AA\n",
    "79-60 BB\n",
    "59-40 CC\n",
    "\"\"\"\n",
    "notu = input(\"Notunuzu Giriniz:\")\n",
    "if notu and notu.isdigit():\n",
    "    notu = int(notu)\n",
    "    if  80<=notu<=100: # notu >=  80 and notu <= 100:\n",
    "        print(\"AA\")\n",
    "    else:\n",
    "        if 60<=notu<=79:\n",
    "            print(\"BB\")\n",
    "        else:\n",
    "            if 40<=notu<=59:\n",
    "                print(\"CC\")\n",
    "            else:\n",
    "                print(\"Kaldın\")\n",
    "else:\n",
    "    print(\"Giriş Hatası\")\n"
   ]
  },
  {
   "cell_type": "code",
   "execution_count": 21,
   "metadata": {},
   "outputs": [
    {
     "name": "stdout",
     "output_type": "stream",
     "text": [
      "AA\n"
     ]
    }
   ],
   "source": [
    "\"\"\"\n",
    "100-80 AA\n",
    "79-60 BB\n",
    "59-40 CC\n",
    "\"\"\"\n",
    "notu = input(\"Notunuzu Giriniz:\")\n",
    "if notu and notu.isdigit():\n",
    "    notu = int(notu)\n",
    "    if  80<=notu<=100: # notu >=  80 and notu <= 100:\n",
    "        print(\"AA\")\n",
    "    elif 60<=notu<=79:\n",
    "        print(\"BB\")\n",
    "    elif 40<=notu<=59:\n",
    "        print(\"CC\")\n",
    "    else:\n",
    "        print(\"Kaldın\")\n",
    "else:\n",
    "    print(\"Giriş Hatası\")"
   ]
  },
  {
   "cell_type": "markdown",
   "metadata": {},
   "source": [
    "## Tek Satır İf Kullanımı"
   ]
  },
  {
   "cell_type": "code",
   "execution_count": 2,
   "metadata": {},
   "outputs": [
    {
     "name": "stdout",
     "output_type": "stream",
     "text": [
      "Tek\n",
      "Tek\n"
     ]
    }
   ],
   "source": [
    "a = 3\n",
    "sonuc = \"Çift\" if a % 2 == 0 else \"Tek\"\n",
    "print(sonuc)\n",
    "print(\"Çift\" if a % 2 == 0 else \"Tek\")"
   ]
  },
  {
   "cell_type": "code",
   "execution_count": null,
   "metadata": {},
   "outputs": [],
   "source": [
    "if a % 2 == 0:print(\"Çift\")\n",
    "else:print(\"Tek\")"
   ]
  },
  {
   "cell_type": "markdown",
   "metadata": {},
   "source": [
    "## match case"
   ]
  },
  {
   "cell_type": "code",
   "execution_count": 25,
   "metadata": {},
   "outputs": [
    {
     "name": "stdout",
     "output_type": "stream",
     "text": [
      "Süper Tebrikler\n"
     ]
    }
   ],
   "source": [
    "ornek = \"AA\"\n",
    "match ornek:\n",
    "    case \"AA\":\n",
    "        print(\"Süper Tebrikler\")\n",
    "    case \"BB\":\n",
    "        print(\"Tebrikler\")\n",
    "    case \"CC\":\n",
    "        print(\"Ucuz kurtuldun\")\n",
    "    case _:\n",
    "        print(\"Kaldın\")\n",
    "\n"
   ]
  },
  {
   "cell_type": "code",
   "execution_count": null,
   "metadata": {},
   "outputs": [],
   "source": []
  }
 ],
 "metadata": {
  "kernelspec": {
   "display_name": "Python 3",
   "language": "python",
   "name": "python3"
  },
  "language_info": {
   "codemirror_mode": {
    "name": "ipython",
    "version": 3
   },
   "file_extension": ".py",
   "mimetype": "text/x-python",
   "name": "python",
   "nbconvert_exporter": "python",
   "pygments_lexer": "ipython3",
   "version": "3.12.4"
  }
 },
 "nbformat": 4,
 "nbformat_minor": 2
}
