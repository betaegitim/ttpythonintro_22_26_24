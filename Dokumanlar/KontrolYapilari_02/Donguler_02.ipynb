{
 "cells": [
  {
   "cell_type": "markdown",
   "metadata": {},
   "source": [
    "# Döngüler\n",
    "1. For Döngüsü\n",
    "    - range fonksiyonu\n",
    "    - dizilerde kullanım\n",
    "2. While Döngüsü\n",
    "3. break\n",
    "4. continue\n",
    "5. else"
   ]
  },
  {
   "cell_type": "markdown",
   "metadata": {},
   "source": [
    "-------------------------------------------\n",
    "```* unpack operator\n",
    "liste = [1,2,3,4,5,6]\n",
    "print(*liste) => 1 2 3 4 5 6\n",
    "```\n",
    "---------------------------------------\n"
   ]
  },
  {
   "cell_type": "code",
   "execution_count": 1,
   "metadata": {},
   "outputs": [
    {
     "name": "stdout",
     "output_type": "stream",
     "text": [
      "1 2 3 4 5 6\n"
     ]
    }
   ],
   "source": [
    "liste = [1,2,3,4,5,6]\n",
    "print(*liste)"
   ]
  },
  {
   "cell_type": "code",
   "execution_count": 4,
   "metadata": {},
   "outputs": [
    {
     "name": "stdout",
     "output_type": "stream",
     "text": [
      "T-ü-r-k- -T-e-l-e-k-o-m\n"
     ]
    }
   ],
   "source": [
    "metin = \"Türk Telekom\"\n",
    "print(*metin,sep=\"-\")"
   ]
  },
  {
   "cell_type": "code",
   "execution_count": 2,
   "metadata": {},
   "outputs": [
    {
     "name": "stdout",
     "output_type": "stream",
     "text": [
      "1;2;3;4;5;6\n"
     ]
    }
   ],
   "source": [
    "liste = [1,2,3,4,5,6]\n",
    "print(*liste,sep=\";\")"
   ]
  },
  {
   "cell_type": "markdown",
   "metadata": {},
   "source": [
    "## range<br>\n",
    "`range(baslangıc,bitis-1,adim)`"
   ]
  },
  {
   "cell_type": "code",
   "execution_count": 5,
   "metadata": {},
   "outputs": [
    {
     "data": {
      "text/plain": [
       "range(1, 6)"
      ]
     },
     "execution_count": 5,
     "metadata": {},
     "output_type": "execute_result"
    }
   ],
   "source": [
    "range(1,6)"
   ]
  },
  {
   "cell_type": "code",
   "execution_count": 13,
   "metadata": {},
   "outputs": [
    {
     "name": "stdout",
     "output_type": "stream",
     "text": [
      "1 2 3 4 5\n",
      "0 1 2 3 4 5\n",
      "0 1 2 3 4 5\n",
      "5 10 15 20\n",
      "100 90 80 70 60 50 40 30 20 10\n"
     ]
    }
   ],
   "source": [
    "print(*range(1,6)) # 1 2 3 4 5\n",
    "print(*range(0,6)) # 0 1 2 3 4 5\n",
    "print(*range(6)) # 0 1 2 3 4 5\n",
    "print(*range(5,25,5)) # 5 10 15 20\n",
    "print(*range(100,0,-10)) # 100 90 80 70 60 50 40 30 20 10"
   ]
  },
  {
   "cell_type": "markdown",
   "metadata": {},
   "source": [
    "```\n",
    "for (int i=0;i<10;i++)    # Diğer dillerden örnek\n",
    "vs\n",
    "for i in range(10) # Python\n",
    "```"
   ]
  },
  {
   "cell_type": "code",
   "execution_count": 16,
   "metadata": {},
   "outputs": [
    {
     "name": "stdout",
     "output_type": "stream",
     "text": [
      "0\n",
      "1\n",
      "2\n",
      "3\n"
     ]
    }
   ],
   "source": [
    "for i in range(4):\n",
    "    print(i)"
   ]
  },
  {
   "cell_type": "markdown",
   "metadata": {},
   "source": [
    "1 sayısından 100 sayısına kadar olan tek sayıların toplamını ekrana yazdıran python program yazalım"
   ]
  },
  {
   "cell_type": "code",
   "execution_count": 21,
   "metadata": {},
   "outputs": [
    {
     "name": "stdout",
     "output_type": "stream",
     "text": [
      "2500 50\n"
     ]
    }
   ],
   "source": [
    "toplam = 0\n",
    "kacsayi = 0\n",
    "for i in range(101):\n",
    "    if i % 2 > 0:\n",
    "        # toplam = toplam + i\n",
    "        toplam += i\n",
    "        kacsayi+=1\n",
    "print(toplam,kacsayi)"
   ]
  },
  {
   "cell_type": "markdown",
   "metadata": {},
   "source": [
    "### Dizilerde kullanım\n"
   ]
  },
  {
   "cell_type": "code",
   "execution_count": 26,
   "metadata": {},
   "outputs": [
    {
     "name": "stdout",
     "output_type": "stream",
     "text": [
      "1\n",
      "2\n",
      "3\n",
      "4\n",
      "5\n"
     ]
    }
   ],
   "source": [
    "liste = [1,2,3,4,5]\n",
    "for i in range(len(liste)):\n",
    "    print(liste[i])"
   ]
  },
  {
   "cell_type": "code",
   "execution_count": 27,
   "metadata": {},
   "outputs": [
    {
     "name": "stdout",
     "output_type": "stream",
     "text": [
      "1\n",
      "2\n",
      "3\n",
      "4\n",
      "5\n"
     ]
    }
   ],
   "source": [
    "liste = [1,2,3,4,5]\n",
    "for item in liste:\n",
    "    print(item)"
   ]
  },
  {
   "cell_type": "code",
   "execution_count": 29,
   "metadata": {},
   "outputs": [
    {
     "name": "stdout",
     "output_type": "stream",
     "text": [
      "B-E-T-A- -A-K-A-D-E-M-İ-"
     ]
    }
   ],
   "source": [
    "metin = \"BETA AKADEMİ\"\n",
    "for item in metin:\n",
    "    print(item,end=\"-\")"
   ]
  },
  {
   "cell_type": "code",
   "execution_count": 30,
   "metadata": {},
   "outputs": [
    {
     "name": "stdout",
     "output_type": "stream",
     "text": [
      "B-E-T-A- -A-K-A-D-E-M-İ\n"
     ]
    }
   ],
   "source": [
    "print(*metin,sep=\"-\")"
   ]
  },
  {
   "cell_type": "code",
   "execution_count": null,
   "metadata": {},
   "outputs": [],
   "source": []
  }
 ],
 "metadata": {
  "kernelspec": {
   "display_name": "Python 3",
   "language": "python",
   "name": "python3"
  },
  "language_info": {
   "codemirror_mode": {
    "name": "ipython",
    "version": 3
   },
   "file_extension": ".py",
   "mimetype": "text/x-python",
   "name": "python",
   "nbconvert_exporter": "python",
   "pygments_lexer": "ipython3",
   "version": "3.12.4"
  }
 },
 "nbformat": 4,
 "nbformat_minor": 2
}
