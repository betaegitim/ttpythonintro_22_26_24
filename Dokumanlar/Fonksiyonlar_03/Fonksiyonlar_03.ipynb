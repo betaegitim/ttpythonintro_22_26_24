{
 "cells": [
  {
   "cell_type": "markdown",
   "metadata": {},
   "source": [
    "# Fonksiyon 3\n",
    "* lambda\n",
    "* yield\n",
    "* Built-ins Gömülü Fonksiyonlar"
   ]
  },
  {
   "cell_type": "markdown",
   "metadata": {},
   "source": [
    "## lambda"
   ]
  },
  {
   "cell_type": "code",
   "execution_count": 1,
   "metadata": {},
   "outputs": [
    {
     "data": {
      "text/plain": [
       "4"
      ]
     },
     "execution_count": 1,
     "metadata": {},
     "output_type": "execute_result"
    }
   ],
   "source": [
    "def fonk(a):\n",
    "    return a ** 2\n",
    "fonk(2)"
   ]
  },
  {
   "cell_type": "code",
   "execution_count": 2,
   "metadata": {},
   "outputs": [
    {
     "data": {
      "text/plain": [
       "4"
      ]
     },
     "execution_count": 2,
     "metadata": {},
     "output_type": "execute_result"
    }
   ],
   "source": [
    "fonk = lambda a : a**2\n",
    "fonk(2)"
   ]
  },
  {
   "cell_type": "code",
   "execution_count": 4,
   "metadata": {},
   "outputs": [
    {
     "data": {
      "text/plain": [
       "['ahmet', 'ali', 'ceren', 'sevgi', 'zeynep', 'çiğdem', 'şermin']"
      ]
     },
     "execution_count": 4,
     "metadata": {},
     "output_type": "execute_result"
    }
   ],
   "source": [
    "liste = [\"şermin\",\"çiğdem\",\"ahmet\",\"ali\",\"sevgi\",\"zeynep\",\"ceren\"]\n",
    "liste.sort()\n",
    "liste"
   ]
  },
  {
   "cell_type": "code",
   "execution_count": 6,
   "metadata": {},
   "outputs": [
    {
     "data": {
      "text/plain": [
       "['ahmet', 'ali', 'ceren', 'çiğdem', 'sevgi', 'şermin', 'zeynep']"
      ]
     },
     "execution_count": 6,
     "metadata": {},
     "output_type": "execute_result"
    }
   ],
   "source": [
    "alfabe = \"abcçdefgğhıijklmnoöprsştuüvyz\"\n",
    "cevrim = {x:alfabe.index(x) for x in alfabe}\n",
    "sorted(liste,key=lambda a:cevrim.get(a[0]))"
   ]
  },
  {
   "cell_type": "markdown",
   "metadata": {},
   "source": [
    "-------------------------------\n",
    "örnek kod\n"
   ]
  },
  {
   "cell_type": "code",
   "execution_count": 7,
   "metadata": {},
   "outputs": [
    {
     "name": "stdout",
     "output_type": "stream",
     "text": [
      "45 + 23 = 68\n",
      "3 * 4 = 12\n",
      "45 - 23 = 22\n",
      "Yanlış İşlem Numarası\n",
      "İyi Günler Dileriz\n"
     ]
    }
   ],
   "source": [
    "topla = lambda a,b:a+b\n",
    "carpma = lambda a,b:a*b\n",
    "cikarma = lambda a,b:a-b\n",
    "bolme = lambda a,b:a/b \n",
    "fList = [topla,carpma,cikarma,bolme]\n",
    "kList = [\"+\",\"*\",\"-\",\"/\"]\n",
    "anahtar = 1\n",
    "menu = \"\"\"\n",
    "1-Toplama\n",
    "2-Çarpma\n",
    "3-Çıkarma\n",
    "4-Bölme\n",
    "5-Çıkış\n",
    "İşlem Seçiniz:\n",
    "\"\"\"\n",
    "while anahtar == 1:\n",
    "    islem = input(menu)\n",
    "    if islem.isdigit():\n",
    "        islem = int(islem)\n",
    "        if islem in range(1,5):\n",
    "            a = int(input(\"1. Sayıyı Giriniz:\"))\n",
    "            b = int(input(\"2. Sayıyı Giriniz:\"))\n",
    "            print(f\"{a} {kList[islem-1]} {b} = {fList[islem-1](a,b)}\")\n",
    "        elif islem == 5:\n",
    "            anahtar = 0\n",
    "        else:\n",
    "            print(\"Yanlış İşlem Numarası\")\n",
    "    else:\n",
    "        print(\"Giriş Hatası\")\n",
    "else:\n",
    "    print(\"İyi Günler Dileriz\")\n",
    "\n"
   ]
  },
  {
   "cell_type": "markdown",
   "metadata": {},
   "source": [
    "## yield"
   ]
  },
  {
   "cell_type": "code",
   "execution_count": 9,
   "metadata": {},
   "outputs": [
    {
     "data": {
      "text/plain": [
       "4"
      ]
     },
     "execution_count": 9,
     "metadata": {},
     "output_type": "execute_result"
    }
   ],
   "source": [
    "def fonk(a):\n",
    "    return a ** 2\n",
    "fonk(2)"
   ]
  },
  {
   "cell_type": "code",
   "execution_count": 26,
   "metadata": {},
   "outputs": [
    {
     "data": {
      "text/plain": [
       "['ervanur', 'haydar', 'ozgur']"
      ]
     },
     "execution_count": 26,
     "metadata": {},
     "output_type": "execute_result"
    }
   ],
   "source": [
    "liste = [\"ahmet\",\"emrullah\",\"ervanur\",\"fatih\",\"haydar\",\"mustafa\",\"nurican\",\"ozgur\",\"rabia\",\"zeynep\",\"cevaplar\",\"halilyasin\"]\n",
    "import random\n",
    "random.sample(liste,3)"
   ]
  },
  {
   "cell_type": "code",
   "execution_count": 41,
   "metadata": {},
   "outputs": [],
   "source": [
    "liste = [\"ahmet\",\"emrullah\",\"ervanur\",\"fatih\",\"haydar\",\"mustafa\",\"nurican\",\"ozgur\",\"rabia\",\"zeynep\",\"cevaplar\",\"halilyasin\"]\n",
    "import random\n",
    "def uretec(param):\n",
    "    yield random.sample(liste,3)"
   ]
  },
  {
   "cell_type": "code",
   "execution_count": 45,
   "metadata": {},
   "outputs": [
    {
     "data": {
      "text/plain": [
       "[9, 28, 35, 39, 48, 49]"
      ]
     },
     "execution_count": 45,
     "metadata": {},
     "output_type": "execute_result"
    }
   ],
   "source": [
    "liste = [random.randint(1,49) for i in range(6)]\n",
    "liste.sort()\n",
    "liste"
   ]
  },
  {
   "cell_type": "code",
   "execution_count": 52,
   "metadata": {},
   "outputs": [
    {
     "name": "stdout",
     "output_type": "stream",
     "text": [
      "[5, 6, 9, 10, 14, 31]\n"
     ]
    }
   ],
   "source": [
    "def loto():\n",
    "    liste = []\n",
    "    for i in range(6):\n",
    "        sayi = random.randint(1,49)\n",
    "        while sayi in liste:\n",
    "            sayi = random.randint(1,49)\n",
    "        liste.append(sayi)\n",
    "    else:\n",
    "        liste.sort()\n",
    "        yield liste\n",
    "print(*loto())"
   ]
  },
  {
   "cell_type": "code",
   "execution_count": 68,
   "metadata": {},
   "outputs": [
    {
     "data": {
      "text/plain": [
       "[4, 18, 23, 24, 25, 46]"
      ]
     },
     "execution_count": 68,
     "metadata": {},
     "output_type": "execute_result"
    }
   ],
   "source": [
    "sorted(random.sample(range(1,50),6))"
   ]
  },
  {
   "cell_type": "code",
   "execution_count": 81,
   "metadata": {},
   "outputs": [
    {
     "data": {
      "text/plain": [
       "[4, 6, 11, 24, 43, 48]"
      ]
     },
     "execution_count": 81,
     "metadata": {},
     "output_type": "execute_result"
    }
   ],
   "source": [
    "random.seed(2)\n",
    "sorted(random.sample(range(1,50),6))"
   ]
  },
  {
   "cell_type": "markdown",
   "metadata": {},
   "source": [
    "## Built_ins Fonksiyonlar - Gömülü Fonksiyonlar\n",
    "* zip\n",
    "* map\n",
    "* filter\n",
    "* any,all\n",
    "* sorted,reversed\n",
    "* sum,len,max,min"
   ]
  },
  {
   "cell_type": "code",
   "execution_count": 91,
   "metadata": {},
   "outputs": [
    {
     "name": "stdout",
     "output_type": "stream",
     "text": [
      "[(1, 'a'), (2, 'b'), (3, 'c'), (4, 'd'), (5, 'e')]\n",
      "[(1, 2, 3, 4, 5), ('a', 'b', 'c', 'd', 'e')]\n"
     ]
    }
   ],
   "source": [
    "l1 = [1,2,3,4,5]\n",
    "l2 = [\"a\",\"b\",\"c\",\"d\",\"e\"]\n",
    "zip(l1,l2) # <zip at 0x7f0d32f83840>\n",
    "print(list(zip(l1,l2)))\n",
    "print(list(zip(*zip(l1,l2))))"
   ]
  },
  {
   "cell_type": "code",
   "execution_count": 94,
   "metadata": {},
   "outputs": [
    {
     "data": {
      "text/plain": [
       "[1, 4, 9, 16, 25, 36, 49]"
      ]
     },
     "execution_count": 94,
     "metadata": {},
     "output_type": "execute_result"
    }
   ],
   "source": [
    "liste = [1,2,3,4,5,6,7]\n",
    "list(map(lambda x:x**2,liste))"
   ]
  },
  {
   "cell_type": "code",
   "execution_count": 97,
   "metadata": {},
   "outputs": [
    {
     "data": {
      "text/plain": [
       "[2, 4, 6]"
      ]
     },
     "execution_count": 97,
     "metadata": {},
     "output_type": "execute_result"
    }
   ],
   "source": [
    "liste = [1,2,3,4,5,6,7]\n",
    "list(filter(lambda x:not x%2,liste))"
   ]
  },
  {
   "cell_type": "code",
   "execution_count": 100,
   "metadata": {},
   "outputs": [
    {
     "data": {
      "text/plain": [
       "False"
      ]
     },
     "execution_count": 100,
     "metadata": {},
     "output_type": "execute_result"
    }
   ],
   "source": [
    "a = [0,0,0,0,0,0,0,0,0] # [],\"\",(),{}\n",
    "any(a)"
   ]
  },
  {
   "cell_type": "code",
   "execution_count": 103,
   "metadata": {},
   "outputs": [
    {
     "data": {
      "text/plain": [
       "False"
      ]
     },
     "execution_count": 103,
     "metadata": {},
     "output_type": "execute_result"
    }
   ],
   "source": [
    "a = [1,1,1,1,1,1,0,1,1] # [],\"\",(),{}\n",
    "all(a)"
   ]
  },
  {
   "cell_type": "code",
   "execution_count": 104,
   "metadata": {},
   "outputs": [
    {
     "data": {
      "text/plain": [
       "True"
      ]
     },
     "execution_count": 104,
     "metadata": {},
     "output_type": "execute_result"
    }
   ],
   "source": [
    "a = \"A\"\n",
    "b = \"a\"\n",
    "a<b"
   ]
  },
  {
   "cell_type": "markdown",
   "metadata": {},
   "source": [
    "* ord\n",
    "* chr"
   ]
  },
  {
   "cell_type": "code",
   "execution_count": 108,
   "metadata": {},
   "outputs": [
    {
     "data": {
      "text/plain": [
       "(65, 97, 'A', 'a')"
      ]
     },
     "execution_count": 108,
     "metadata": {},
     "output_type": "execute_result"
    }
   ],
   "source": [
    "ord(a),ord(b),chr(65),chr(97)"
   ]
  },
  {
   "cell_type": "code",
   "execution_count": null,
   "metadata": {},
   "outputs": [],
   "source": []
  }
 ],
 "metadata": {
  "kernelspec": {
   "display_name": "Python 3",
   "language": "python",
   "name": "python3"
  },
  "language_info": {
   "codemirror_mode": {
    "name": "ipython",
    "version": 3
   },
   "file_extension": ".py",
   "mimetype": "text/x-python",
   "name": "python",
   "nbconvert_exporter": "python",
   "pygments_lexer": "ipython3",
   "version": "3.12.4"
  }
 },
 "nbformat": 4,
 "nbformat_minor": 2
}
