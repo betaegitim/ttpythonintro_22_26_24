{
 "cells": [
  {
   "cell_type": "markdown",
   "metadata": {},
   "source": [
    "# Fonksiyonlar 04\n",
    "* global,nonlocal\n",
    "* recursion-Öz Yinelemeli"
   ]
  },
  {
   "cell_type": "code",
   "execution_count": 1,
   "metadata": {},
   "outputs": [
    {
     "name": "stdout",
     "output_type": "stream",
     "text": [
      "1 5\n",
      "Fonksiyon içerisinde => 3\n",
      "2 5\n"
     ]
    }
   ],
   "source": [
    "a = 5  # global\n",
    "def fonk():\n",
    "    a = 3 # local\n",
    "    print(\"Fonksiyon içerisinde =>\",a)\n",
    "print(\"1\",a)\n",
    "fonk()\n",
    "print(\"2\",a)\n"
   ]
  },
  {
   "cell_type": "code",
   "execution_count": 3,
   "metadata": {},
   "outputs": [
    {
     "name": "stdout",
     "output_type": "stream",
     "text": [
      "1- 5\n",
      "Fonksiyon içerisinde => 3\n",
      "2- 3\n"
     ]
    }
   ],
   "source": [
    "a = 5  # global\n",
    "def fonk():\n",
    "    global a \n",
    "    a = 3 # global\n",
    "    print(\"Fonksiyon içerisinde =>\",a)\n",
    "print(\"1-\",a)\n",
    "fonk()\n",
    "print(\"2-\",a)"
   ]
  },
  {
   "cell_type": "code",
   "execution_count": 4,
   "metadata": {},
   "outputs": [
    {
     "name": "stdout",
     "output_type": "stream",
     "text": [
      "1- 5\n",
      "Fonksiyon içerisinde => 3\n",
      "İç fonksiyon çalışıyor 8\n",
      "2- 5\n"
     ]
    }
   ],
   "source": [
    "a = 5  # global\n",
    "def fonk():\n",
    "    a = 3\n",
    "    print(\"Fonksiyon içerisinde =>\",a)\n",
    "    def icfonk():\n",
    "        a = 8\n",
    "        print(\"İç fonksiyon çalışıyor\",a)\n",
    "    icfonk()\n",
    "print(\"1-\",a)\n",
    "fonk()\n",
    "print(\"2-\",a)"
   ]
  },
  {
   "cell_type": "code",
   "execution_count": 5,
   "metadata": {},
   "outputs": [
    {
     "name": "stdout",
     "output_type": "stream",
     "text": [
      "1- 5\n",
      "Fonksiyon içerisinde => 3\n",
      "İç fonksiyon çalışıyor 8\n",
      "2- 8\n"
     ]
    }
   ],
   "source": [
    "a = 5  # global\n",
    "def fonk():\n",
    "    a = 3\n",
    "    print(\"Fonksiyon içerisinde =>\",a)\n",
    "    def icfonk():\n",
    "        global a\n",
    "        a = 8\n",
    "        print(\"İç fonksiyon çalışıyor\",a)\n",
    "    icfonk()\n",
    "print(\"1-\",a)\n",
    "fonk()\n",
    "print(\"2-\",a)"
   ]
  },
  {
   "cell_type": "code",
   "execution_count": 8,
   "metadata": {},
   "outputs": [
    {
     "name": "stdout",
     "output_type": "stream",
     "text": [
      "1- 5\n",
      "1-Fonksiyon içerisinde => 3\n",
      "İç fonksiyon çalışıyor 8\n",
      "2-Fonksiyon içerisinde => 8\n",
      "2- 5\n"
     ]
    }
   ],
   "source": [
    "a = 5  # global\n",
    "def fonk():\n",
    "    a = 3 # nonlocal\n",
    "    print(\"1-Fonksiyon içerisinde =>\",a)\n",
    "    def icfonk():\n",
    "        nonlocal a\n",
    "        a = 8\n",
    "        print(\"İç fonksiyon çalışıyor\",a)\n",
    "    icfonk()\n",
    "    print(\"2-Fonksiyon içerisinde =>\",a)\n",
    "print(\"1-\",a)\n",
    "fonk()\n",
    "print(\"2-\",a)"
   ]
  },
  {
   "cell_type": "markdown",
   "metadata": {},
   "source": [
    "## recursion"
   ]
  },
  {
   "cell_type": "code",
   "execution_count": 10,
   "metadata": {},
   "outputs": [
    {
     "name": "stdout",
     "output_type": "stream",
     "text": [
      "Beta\n",
      "eta\n",
      "ta\n",
      "a\n"
     ]
    }
   ],
   "source": [
    "def reco(metin):\n",
    "    if len(metin) == 1:\n",
    "        print(metin)\n",
    "    else:\n",
    "        print(metin)\n",
    "        reco(metin[1:])\n",
    "reco(\"Beta\")"
   ]
  },
  {
   "cell_type": "code",
   "execution_count": 15,
   "metadata": {},
   "outputs": [
    {
     "data": {
      "text/plain": [
       "6000"
      ]
     },
     "execution_count": 15,
     "metadata": {},
     "output_type": "execute_result"
    }
   ],
   "source": [
    "import sys\n",
    "sys.setrecursionlimit(6000)\n",
    "sys.getrecursionlimit()"
   ]
  },
  {
   "cell_type": "code",
   "execution_count": null,
   "metadata": {},
   "outputs": [],
   "source": []
  }
 ],
 "metadata": {
  "kernelspec": {
   "display_name": "Python 3",
   "language": "python",
   "name": "python3"
  },
  "language_info": {
   "codemirror_mode": {
    "name": "ipython",
    "version": 3
   },
   "file_extension": ".py",
   "mimetype": "text/x-python",
   "name": "python",
   "nbconvert_exporter": "python",
   "pygments_lexer": "ipython3",
   "version": "3.12.4"
  }
 },
 "nbformat": 4,
 "nbformat_minor": 2
}
