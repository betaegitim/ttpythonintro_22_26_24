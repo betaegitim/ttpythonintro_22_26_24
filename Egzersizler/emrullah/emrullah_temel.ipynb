{
 "cells": [
  {
   "cell_type": "code",
   "execution_count": 8,
   "metadata": {},
   "outputs": [
    {
     "name": "stdout",
     "output_type": "stream",
     "text": [
      "Merhaba, 2\n"
     ]
    }
   ],
   "source": [
    "print(\"Merhaba, 2\")"
   ]
  },
  {
   "cell_type": "code",
   "execution_count": 11,
   "metadata": {},
   "outputs": [
    {
     "name": "stdout",
     "output_type": "stream",
     "text": [
      "Merhaba-2\n"
     ]
    }
   ],
   "source": [
    "print(\"Merhaba\",2,sep=\"-\")"
   ]
  },
  {
   "cell_type": "code",
   "execution_count": 13,
   "metadata": {},
   "outputs": [
    {
     "name": "stdout",
     "output_type": "stream",
     "text": [
      "Merhaba 2;Merhaba 2\n"
     ]
    }
   ],
   "source": [
    "print(\"Merhaba\",2,end=\";\")\n",
    "print(\"Merhaba\",2)"
   ]
  },
  {
   "cell_type": "markdown",
   "metadata": {},
   "source": [
    "Soru :\n",
    "1. Kullanıcıdan yaş bilgisini alınız\n",
    "2. print fonksiyonu ile kullanıcının yaşını ekrana yazdırınız"
   ]
  },
  {
   "cell_type": "code",
   "execution_count": 22,
   "metadata": {},
   "outputs": [
    {
     "name": "stdout",
     "output_type": "stream",
     "text": [
      "emrullah\n"
     ]
    }
   ],
   "source": [
    "giris = input(\"adinizi giriniz\")\n",
    "print(giris)   # tırnak içerisinde yazılanlar string veri tipidir."
   ]
  },
  {
   "cell_type": "code",
   "execution_count": 26,
   "metadata": {},
   "outputs": [
    {
     "name": "stdout",
     "output_type": "stream",
     "text": [
      "Yaşınız: 40\n"
     ]
    }
   ],
   "source": [
    "giris = input(\"Yaşınızı Giriniz:\")\n",
    "print(\"Yaşınız:\",giris)"
   ]
  },
  {
   "cell_type": "markdown",
   "metadata": {},
   "source": [
    "SORU: giriş değişkeni atamadan direk input olarak girdiğimizde  print e gerek kalmadan yazdırıyor. bu durumda print i hangi durumdalarda kullanmalıyız. yaş girin örneğinde print ile başına yaşınız: girdik"
   ]
  },
  {
   "cell_type": "code",
   "execution_count": 23,
   "metadata": {},
   "outputs": [
    {
     "data": {
      "text/plain": [
       "'denememmeemem'"
      ]
     },
     "execution_count": 23,
     "metadata": {},
     "output_type": "execute_result"
    }
   ],
   "source": [
    "input(\"adinizi giriniz\")"
   ]
  }
 ],
 "metadata": {
  "kernelspec": {
   "display_name": "Python 3",
   "language": "python",
   "name": "python3"
  },
  "language_info": {
   "codemirror_mode": {
    "name": "ipython",
    "version": 3
   },
   "file_extension": ".py",
   "mimetype": "text/x-python",
   "name": "python",
   "nbconvert_exporter": "python",
   "pygments_lexer": "ipython3",
   "version": "3.12.4"
  }
 },
 "nbformat": 4,
 "nbformat_minor": 2
}
