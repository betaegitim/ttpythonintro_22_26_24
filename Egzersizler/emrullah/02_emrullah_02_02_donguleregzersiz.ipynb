{
 "cells": [
  {
   "cell_type": "markdown",
   "metadata": {},
   "source": [
    "```\n",
    "acilar = [(90, 84), (45, 45), (60, 60), (53, 89), (60, 116), (30, 60), (71, 46), (23, 64)]\n",
    "yukarıda verilen açı listesini kullanarak üçgenlerin aşağıda verilen seçenekler biri olmak üzere tipini ekrana yazdıran python kodunu yazalım\n",
    "* ikizkenar üçgen\n",
    "* dik üçgen\n",
    "* eşkenar üçgen\n",
    "* çeşitkenar üçgen\n",
    "```"
   ]
  },
  {
   "cell_type": "code",
   "execution_count": null,
   "metadata": {},
   "outputs": [],
   "source": [
    "# acilar = [(90, 84), (45, 45), (60, 60), (53, 89), (60, 116), (30, 60), (71, 46), (23, 64)]\n",
    "# for i in range(len(acilar)):\n",
    "#     aci1 = acilar[i][0]\n",
    "#     aci2 = acilar[i][1]\n"
   ]
  },
  {
   "cell_type": "code",
   "execution_count": 12,
   "metadata": {},
   "outputs": [
    {
     "name": "stdout",
     "output_type": "stream",
     "text": [
      "[90, 84, 6] - {90, 84, 6} - Çeşitkenar Dik  Üçgen\n",
      "[45, 45, 90] - {90, 45} - İkizkenar Dik  Üçgen\n",
      "[60, 60, 60] - {60} - Eşkenar Üçgen\n",
      "[53, 89, 38] - {89, 53, 38} - Çeşitkenar Üçgen\n",
      "Açı Hatası 60 120 0\n",
      "[30, 60, 90] - {90, 60, 30} - Çeşitkenar Dik  Üçgen\n",
      "[71, 46, 63] - {63, 46, 71} - Çeşitkenar Üçgen\n",
      "[23, 64, 93] - {64, 93, 23} - Çeşitkenar Üçgen\n"
     ]
    }
   ],
   "source": [
    "acilar = [(90, 84), (45, 45), (60, 60), (53, 89), (60, 120), (30, 60), (71, 46), (23, 64)]\n",
    "for aci1,aci2 in acilar:\n",
    "    aci3 = 180-(aci1+aci2)\n",
    "    if aci3 > 0:\n",
    "        liste = [aci1,aci2,aci3] # 45, 45, 90\n",
    "        ucgen = set(liste)  # {45, 90}\n",
    "        sonuc = \"\"\n",
    "        if len(ucgen) == 1:\n",
    "            sonuc = \"Eşkenar\"\n",
    "        elif len(ucgen) == 2: \n",
    "            sonuc = \"İkizkenar\"\n",
    "        else:\n",
    "            sonuc = \"Çeşitkenar\"\n",
    "        if 90 in liste:\n",
    "            sonuc += \" Dik \"\n",
    "        print(f\"{liste} - {ucgen} - {sonuc} Üçgen\")\n",
    "    else:\n",
    "        print(\"Açı Hatası\",aci1,aci2,aci3)\n"
   ]
  },
  {
   "cell_type": "code",
   "execution_count": null,
   "metadata": {},
   "outputs": [],
   "source": [
    "acilar = [(90, 84), (45, 45), (60, 60), (53, 89), (60, 120), (30, 60), (71, 46), (23, 64)]\n",
    "# Her üçgen için işlemleri tekrarla\n",
    "for aci1, aci2 in acilar:\n",
    "    # Üçüncü açıyı hesapla (180 - (birinci açı + ikinci açı))\n",
    "    aci3 = 180 - (aci1 + aci2)\n",
    "    # Üçüncü açının 0'dan büyük olup olmadığını kontrol et\n",
    "    if aci3 > 0:\n",
    "        # Üçgenin kenar uzunluklarını temsil eden bir liste oluştur\n",
    "        liste = [aci1, aci2, aci3]\n",
    "        # Üçgenin kenarlarının benzersizliğini kontrol etmek için bir küme oluştur\n",
    "        ucgen = set(liste)\n",
    "        # Üçgenin türünü ve özelliklerini saklayacak bir değişken oluştur\n",
    "        sonuc = \"\"\n",
    "        # Kenar uzunlukları birbirine eşitse eşkenar üçgen belirle\n",
    "        if len(ucgen) == 1:\n",
    "            sonuc = \"Eşkenar\"\n",
    "        # İki kenar uzunluğu birbirine eşitse ikizkenar üçgen belirle\n",
    "        elif len(ucgen) == 2:\n",
    "            sonuc = \"İkizkenar\"\n",
    "        # Üç kenar uzunluğu da birbirinden farklıysa çeşitkenar üçgen belirle\n",
    "        else:\n",
    "            sonuc = \"Çeşitkenar\"\n",
    "        # Listede 90 açı varsa dik açılı üçgen olduğunu belirle\n",
    "        if 90 in liste:\n",
    "            sonuc += \" Dik \"\n",
    "        # Üçgenin bilgilerini ekrana yazdır\n",
    "        print(f\"{liste} - {ucgen} - {sonuc} Üçgen\")\n",
    "\n",
    "    # Üçüncü açı 0'dan küçükse hata mesajı yazdır\n",
    "    else:\n",
    "        print(\"Açı Hatası\", aci1, aci2, aci3)\n"
   ]
  },
  {
   "cell_type": "code",
   "execution_count": 13,
   "metadata": {},
   "outputs": [
    {
     "name": "stdout",
     "output_type": "stream",
     "text": [
      "3.9 büyüktür 3.11'den.\n"
     ]
    }
   ],
   "source": [
    "# İki sayıyı karşılaştırmak için değişkenler\n",
    "sayi1 = 3.11\n",
    "sayi2 = 3.9\n",
    "\n",
    "# Karşılaştırma ve sonuçları ekrana yazdırma\n",
    "if sayi1 > sayi2:\n",
    "    print(f\"{sayi1} büyüktür {sayi2}'den.\")\n",
    "elif sayi1 < sayi2:\n",
    "    print(f\"{sayi2} büyüktür {sayi1}'den.\")\n",
    "else:\n",
    "    print(f\"{sayi1} ve {sayi2} eşittir.\")\n"
   ]
  },
  {
   "cell_type": "markdown",
   "metadata": {},
   "source": [
    "Soru:\n",
    "1. Kullanıcıdan bir sayı girmesi istenir.\n",
    "2. Bu sayının 10 dan büyük olması istenir.\n",
    "3. Bu sayıya kadar olan asal sayıların listesi ekrana yazdırılır\n",
    "4. Bu sayıya kadar olan asal sayıların sayısının ekrana yazdırılır"
   ]
  },
  {
   "cell_type": "code",
   "execution_count": 22,
   "metadata": {},
   "outputs": [
    {
     "ename": "IndentationError",
     "evalue": "expected an indented block after 'if' statement on line 6 (432887813.py, line 7)",
     "output_type": "error",
     "traceback": [
      "\u001b[0;36m  Cell \u001b[0;32mIn[22], line 7\u001b[0;36m\u001b[0m\n\u001b[0;31m    print(sayı)\u001b[0m\n\u001b[0m    ^\u001b[0m\n\u001b[0;31mIndentationError\u001b[0m\u001b[0;31m:\u001b[0m expected an indented block after 'if' statement on line 6\n"
     ]
    }
   ],
   "source": [
    "sayı =input(\"10'dan büyük sayı giriniz\")\n",
    "if sayı and sayı.isdigit():\n",
    "    sayı = int(sayı)\n",
    "    sayı = 0\n",
    "    while sayı >=10:\n",
    "        if sayı / sayı ==1:\n",
    "        print(sayı)"
   ]
  },
  {
   "cell_type": "markdown",
   "metadata": {},
   "source": [
    "Soru:\n",
    "1. Armstrong Sayısı (371 => basamak sayısı 3 olduğu için `3**3 + 7**3 + 1**3 = 371` olduğu için 371 armstrong sayısıdır.)\n",
    "2. 10000 sayısına kadar olan armstrong sayılarını ekrana yazdıran python kodunu yazınız"
   ]
  },
  {
   "cell_type": "code",
   "execution_count": null,
   "metadata": {},
   "outputs": [],
   "source": []
  }
 ],
 "metadata": {
  "kernelspec": {
   "display_name": "Python 3",
   "language": "python",
   "name": "python3"
  },
  "language_info": {
   "codemirror_mode": {
    "name": "ipython",
    "version": 3
   },
   "file_extension": ".py",
   "mimetype": "text/x-python",
   "name": "python",
   "nbconvert_exporter": "python",
   "pygments_lexer": "ipython3",
   "version": "3.12.4"
  }
 },
 "nbformat": 4,
 "nbformat_minor": 2
}
