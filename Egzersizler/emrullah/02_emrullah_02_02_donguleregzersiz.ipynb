{
 "cells": [
  {
   "cell_type": "markdown",
   "metadata": {},
   "source": [
    "```\n",
    "acilar = [(90, 84), (45, 45), (60, 60), (53, 89), (60, 116), (30, 60), (71, 46), (23, 64)]\n",
    "yukarıda verilen açı listesini kullanarak üçgenlerin aşağıda verilen seçenekler biri olmak üzere tipini ekrana yazdıran python kodunu yazalım\n",
    "* ikizkenar üçgen\n",
    "* dik üçgen\n",
    "* eşkenar üçgen\n",
    "* çeşitkenar üçgen\n",
    "```"
   ]
  },
  {
   "cell_type": "code",
   "execution_count": null,
   "metadata": {},
   "outputs": [],
   "source": []
  }
 ],
 "metadata": {
  "kernelspec": {
   "display_name": "Python 3",
   "language": "python",
   "name": "python3"
  },
  "language_info": {
   "codemirror_mode": {
    "name": "ipython",
    "version": 3
   },
   "file_extension": ".py",
   "mimetype": "text/x-python",
   "name": "python",
   "nbconvert_exporter": "python",
   "pygments_lexer": "ipython3",
   "version": "3.12.4"
  }
 },
 "nbformat": 4,
 "nbformat_minor": 2
}
