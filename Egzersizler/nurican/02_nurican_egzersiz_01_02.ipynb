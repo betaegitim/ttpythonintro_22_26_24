{
 "cells": [
  {
   "cell_type": "code",
   "execution_count": 1,
   "metadata": {},
   "outputs": [
    {
     "name": "stdout",
     "output_type": "stream",
     "text": [
      "<class 'int'>\n"
     ]
    }
   ],
   "source": [
    "var1 = 89 # int\n",
    "var2 = 0.8 # float\n",
    "var3 = 0.9 + 2j # complex\n",
    "var4 = \"89\" # str\n",
    "var5 = [89] # list\n",
    "var6 = (5666,) # tuple\n",
    "var7 = {5555} # set\n",
    "var8 = {\"501\":\"Beş\"} # dict\n",
    "var9 = False # bool\n",
    "\n",
    "print(type(var1))\n"
   ]
  }
 ],
 "metadata": {
  "kernelspec": {
   "display_name": "Python 3",
   "language": "python",
   "name": "python3"
  },
  "language_info": {
   "codemirror_mode": {
    "name": "ipython",
    "version": 3
   },
   "file_extension": ".py",
   "mimetype": "text/x-python",
   "name": "python",
   "nbconvert_exporter": "python",
   "pygments_lexer": "ipython3",
   "version": "3.12.4"
  }
 },
 "nbformat": 4,
 "nbformat_minor": 2
}
