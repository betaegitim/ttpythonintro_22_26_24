{
 "cells": [
  {
   "cell_type": "markdown",
   "metadata": {},
   "source": [
    "`*,-,+,/,//,%,**`<br>\n",
    "Yukarıda yer alan operatörlerin bir fonksiyon olarak tanımlanıp her bir fonksiyon içerisinden *return* deyimi ile işlem sonucu veren fonksiyonlar yazınız"
   ]
  },
  {
   "cell_type": "code",
   "execution_count": null,
   "metadata": {},
   "outputs": [],
   "source": []
  }
 ],
 "metadata": {
  "language_info": {
   "name": "python"
  }
 },
 "nbformat": 4,
 "nbformat_minor": 2
}
