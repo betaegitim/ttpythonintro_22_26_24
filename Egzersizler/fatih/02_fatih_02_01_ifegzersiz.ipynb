{
 "cells": [
  {
   "cell_type": "markdown",
   "metadata": {},
   "source": [
    "Kullanıcıdan yaş bilgisinin alınarak 18 yaşından büyük ise ekrana oy kullanabilir ifadesinin yazılmasını sağlayan python kodunu yazınız"
   ]
  },
  {
   "cell_type": "code",
   "execution_count": null,
   "metadata": {},
   "outputs": [],
   "source": []
  }
 ],
 "metadata": {
  "language_info": {
   "name": "python"
  }
 },
 "nbformat": 4,
 "nbformat_minor": 2
}
