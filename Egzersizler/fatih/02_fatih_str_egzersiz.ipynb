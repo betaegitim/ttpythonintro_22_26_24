{
 "cells": [
  {
   "cell_type": "markdown",
   "metadata": {},
   "source": [
    "1. Kullanıcıdan input fonksiyonu ile ismini yazmasını isteyip bir değişkene aktarınız\n",
    "2. Bu değişkeni kullanarak aldığınız ismi büyük harfe çeviriniz\n",
    "3. Bu değişkeni kullanarak aldığınız ismi küçük harfe çeviriniz"
   ]
  },
  {
   "cell_type": "code",
   "execution_count": null,
   "metadata": {},
   "outputs": [],
   "source": []
  }
 ],
 "metadata": {
  "language_info": {
   "name": "python"
  }
 },
 "nbformat": 4,
 "nbformat_minor": 2
}
