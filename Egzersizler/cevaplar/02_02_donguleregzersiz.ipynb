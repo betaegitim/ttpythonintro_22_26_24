{
 "cells": [
  {
   "cell_type": "markdown",
   "metadata": {},
   "source": [
    "```\n",
    "acilar = [(90, 84), (45, 45), (60, 60), (53, 89), (60, 116), (30, 60), (71, 46), (23, 64)]\n",
    "yukarıda verilen açı listesini kullanarak üçgenlerin aşağıda verilen seçenekler biri olmak üzere tipini ekrana yazdıran python kodunu yazalım\n",
    "* ikizkenar üçgen\n",
    "* dik üçgen\n",
    "* eşkenar üçgen\n",
    "* çeşitkenar üçgen\n",
    "```"
   ]
  },
  {
   "cell_type": "code",
   "execution_count": null,
   "metadata": {},
   "outputs": [],
   "source": [
    "# acilar = [(90, 84), (45, 45), (60, 60), (53, 89), (60, 116), (30, 60), (71, 46), (23, 64)]\n",
    "# for i in range(len(acilar)):\n",
    "#     aci1 = acilar[i][0]\n",
    "#     aci2 = acilar[i][1]\n"
   ]
  },
  {
   "cell_type": "code",
   "execution_count": 12,
   "metadata": {},
   "outputs": [
    {
     "name": "stdout",
     "output_type": "stream",
     "text": [
      "[90, 84, 6] - {90, 84, 6} - Çeşitkenar Dik  Üçgen\n",
      "[45, 45, 90] - {90, 45} - İkizkenar Dik  Üçgen\n",
      "[60, 60, 60] - {60} - Eşkenar Üçgen\n",
      "[53, 89, 38] - {89, 53, 38} - Çeşitkenar Üçgen\n",
      "Açı Hatası 60 120 0\n",
      "[30, 60, 90] - {90, 60, 30} - Çeşitkenar Dik  Üçgen\n",
      "[71, 46, 63] - {63, 46, 71} - Çeşitkenar Üçgen\n",
      "[23, 64, 93] - {64, 93, 23} - Çeşitkenar Üçgen\n"
     ]
    }
   ],
   "source": [
    "acilar = [(90, 84), (45, 45), (60, 60), (53, 89), (60, 120), (30, 60), (71, 46), (23, 64)]\n",
    "for aci1,aci2 in acilar:\n",
    "    aci3 = 180-(aci1+aci2)\n",
    "    if aci3 > 0:\n",
    "        liste = [aci1,aci2,aci3] # 45, 45, 90\n",
    "        ucgen = set(liste)  # {45, 90}\n",
    "        sonuc = \"\"\n",
    "        if len(ucgen) == 1:\n",
    "            sonuc = \"Eşkenar\"\n",
    "        elif len(ucgen) == 2: \n",
    "            sonuc = \"İkizkenar\"\n",
    "        else:\n",
    "            sonuc = \"Çeşitkenar\"\n",
    "        if 90 in liste:\n",
    "            sonuc += \" Dik \"\n",
    "        print(f\"{liste} - {ucgen} - {sonuc} Üçgen\")\n",
    "    else:\n",
    "        print(\"Açı Hatası\",aci1,aci2,aci3)\n"
   ]
  },
  {
   "cell_type": "code",
   "execution_count": null,
   "metadata": {},
   "outputs": [],
   "source": [
    "acilar = [(90, 84), (45, 45), (60, 60), (53, 89), (60, 120), (30, 60), (71, 46), (23, 64)]\n",
    "# Her üçgen için işlemleri tekrarla\n",
    "for aci1, aci2 in acilar:\n",
    "    # Üçüncü açıyı hesapla (180 - (birinci açı + ikinci açı))\n",
    "    aci3 = 180 - (aci1 + aci2)\n",
    "    # Üçüncü açının 0'dan büyük olup olmadığını kontrol et\n",
    "    if aci3 > 0:\n",
    "        # Üçgenin kenar uzunluklarını temsil eden bir liste oluştur\n",
    "        liste = [aci1, aci2, aci3]\n",
    "        # Üçgenin kenarlarının benzersizliğini kontrol etmek için bir küme oluştur\n",
    "        ucgen = set(liste)\n",
    "        # Üçgenin türünü ve özelliklerini saklayacak bir değişken oluştur\n",
    "        sonuc = \"\"\n",
    "        # Kenar uzunlukları birbirine eşitse eşkenar üçgen belirle\n",
    "        if len(ucgen) == 1:\n",
    "            sonuc = \"Eşkenar\"\n",
    "        # İki kenar uzunluğu birbirine eşitse ikizkenar üçgen belirle\n",
    "        elif len(ucgen) == 2:\n",
    "            sonuc = \"İkizkenar\"\n",
    "        # Üç kenar uzunluğu da birbirinden farklıysa çeşitkenar üçgen belirle\n",
    "        else:\n",
    "            sonuc = \"Çeşitkenar\"\n",
    "        # Listede 90 açı varsa dik açılı üçgen olduğunu belirle\n",
    "        if 90 in liste:\n",
    "            sonuc += \" Dik \"\n",
    "        # Üçgenin bilgilerini ekrana yazdır\n",
    "        print(f\"{liste} - {ucgen} - {sonuc} Üçgen\")\n",
    "\n",
    "    # Üçüncü açı 0'dan küçükse hata mesajı yazdır\n",
    "    else:\n",
    "        print(\"Açı Hatası\", aci1, aci2, aci3)\n"
   ]
  },
  {
   "cell_type": "code",
   "execution_count": 13,
   "metadata": {},
   "outputs": [
    {
     "name": "stdout",
     "output_type": "stream",
     "text": [
      "3.9 büyüktür 3.11'den.\n"
     ]
    }
   ],
   "source": [
    "# İki sayıyı karşılaştırmak için değişkenler\n",
    "sayi1 = 3.11\n",
    "sayi2 = 3.9\n",
    "\n",
    "# Karşılaştırma ve sonuçları ekrana yazdırma\n",
    "if sayi1 > sayi2:\n",
    "    print(f\"{sayi1} büyüktür {sayi2}'den.\")\n",
    "elif sayi1 < sayi2:\n",
    "    print(f\"{sayi2} büyüktür {sayi1}'den.\")\n",
    "else:\n",
    "    print(f\"{sayi1} ve {sayi2} eşittir.\")\n"
   ]
  },
  {
   "cell_type": "markdown",
   "metadata": {},
   "source": [
    "Soru:\n",
    "1. Kullanıcıdan bir sayı girmesi istenir.\n",
    "2. Bu sayının 10 dan büyük olması istenir.\n",
    "3. Bu sayıya kadar olan asal sayıların listesi ekrana yazdırılır\n",
    "4. Bu sayıya kadar olan asal sayıların sayısının ekrana yazdırılır"
   ]
  },
  {
   "cell_type": "code",
   "execution_count": 3,
   "metadata": {},
   "outputs": [
    {
     "name": "stdout",
     "output_type": "stream",
     "text": [
      "2-3-5-7-11\n",
      "Bu sayıyı kadar toplam 5 asal sayı vardır.\n"
     ]
    }
   ],
   "source": [
    "sayi = input(\"Sayıyı Giriniz:\")\n",
    "asalSayiListesi = []\n",
    "if sayi.isdigit():\n",
    "    sayi = int(sayi)\n",
    "    if sayi > 10:\n",
    "        for i in range(2,sayi):\n",
    "            for j in range(2,i):\n",
    "                if i % j == 0:\n",
    "                    break\n",
    "            asalSayiListesi.append(i)\n",
    "        else:\n",
    "            print(*asalSayiListesi,sep=\"-\")\n",
    "            print(\"Bu sayıyı kadar toplam\",len(asalSayiListesi),\"asal sayı vardır.\")\n",
    "            \n",
    "else:\n",
    "    print(\"Giriş Hatası\")"
   ]
  },
  {
   "cell_type": "code",
   "execution_count": 5,
   "metadata": {},
   "outputs": [
    {
     "name": "stdout",
     "output_type": "stream",
     "text": [
      "Giriş Hatası\n",
      "Giriş Hatası\n",
      "2-3-4-5-6-7-8-9-10-11\n",
      "Bu sayıyı kadar toplam 10 asal sayı vardır.\n",
      "2-3-4-5-6-7-8-9-10-11-12-13-14-15-16-17-18-19-20-21-22-23-24\n",
      "Bu sayıyı kadar toplam 23 asal sayı vardır.\n",
      "2-3-4-5-6-7-8-9-10-11-12-13-14-15-16-17-18-19-20-21-22-23-24-25-26-27-28-29\n",
      "Bu sayıyı kadar toplam 28 asal sayı vardır.\n",
      "Giriş Hatası\n"
     ]
    }
   ],
   "source": [
    "anahtar = 1\n",
    "while anahtar == 1:\n",
    "    sayi = input(\"çıkmak için ç ye basınız, Sayıyı Giriniz:\")\n",
    "    if sayi == \"ç\":\n",
    "        anahtar = 0\n",
    "    asalSayiListesi = []\n",
    "    if sayi.isdigit():\n",
    "        sayi = int(sayi)\n",
    "        if sayi > 10:\n",
    "            for i in range(2,sayi):\n",
    "                for j in range(2,i):\n",
    "                    if i % j == 0:\n",
    "                        break\n",
    "                asalSayiListesi.append(i)\n",
    "            else:\n",
    "                print(*asalSayiListesi,sep=\"-\")\n",
    "                print(\"Bu sayıyı kadar toplam\",len(asalSayiListesi),\"asal sayı vardır.\")\n",
    "                \n",
    "    else:\n",
    "        print(\"Giriş Hatası\")"
   ]
  },
  {
   "cell_type": "markdown",
   "metadata": {},
   "source": [
    "Soru:\n",
    "1. Armstrong Sayısı (371 => basamak sayısı 3 olduğu için `3**3 + 7**3 + 1**3 = 371` olduğu için 371 armstrong sayısıdır.)\n",
    "2. 10000 sayısına kadar olan armstrong sayılarını ekrana yazdıran python kodunu yazınız"
   ]
  },
  {
   "cell_type": "code",
   "execution_count": 6,
   "metadata": {},
   "outputs": [
    {
     "name": "stdout",
     "output_type": "stream",
     "text": [
      "153\n",
      "370\n",
      "371\n",
      "407\n",
      "1634\n",
      "8208\n",
      "9474\n"
     ]
    }
   ],
   "source": [
    "for i in range(10,10001):\n",
    "    toplam = 0\n",
    "    for item in str(i): \"371 => '371'\"\n",
    "        toplam += int(item)**len(str(i))\n",
    "    else:\n",
    "        if i == toplam:\n",
    "            print(i)\n",
    "        "
   ]
  },
  {
   "cell_type": "code",
   "execution_count": null,
   "metadata": {},
   "outputs": [],
   "source": []
  }
 ],
 "metadata": {
  "kernelspec": {
   "display_name": "Python 3",
   "language": "python",
   "name": "python3"
  },
  "language_info": {
   "codemirror_mode": {
    "name": "ipython",
    "version": 3
   },
   "file_extension": ".py",
   "mimetype": "text/x-python",
   "name": "python",
   "nbconvert_exporter": "python",
   "pygments_lexer": "ipython3",
   "version": "3.12.4"
  }
 },
 "nbformat": 4,
 "nbformat_minor": 2
}
