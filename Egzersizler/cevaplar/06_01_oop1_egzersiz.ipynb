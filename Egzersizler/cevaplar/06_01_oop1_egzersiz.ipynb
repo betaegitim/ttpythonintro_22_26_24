{
 "cells": [
  {
   "cell_type": "markdown",
   "metadata": {},
   "source": [
    "Evinizde 5 kedi beslediğinizi,bu kedilerle ilgili bir kayıt defteri tutmak için OOP kurallarından faydalandığınızı düşünerek bir örnek yazalım\n"
   ]
  },
  {
   "cell_type": "code",
   "execution_count": 1,
   "metadata": {},
   "outputs": [
    {
     "name": "stdout",
     "output_type": "stream",
     "text": [
      "Aşı Olmamış\n"
     ]
    },
    {
     "data": {
      "text/plain": [
       "False"
      ]
     },
     "execution_count": 1,
     "metadata": {},
     "output_type": "execute_result"
    }
   ],
   "source": [
    "class Kedi:\n",
    "    tur = \"Felis\"\n",
    "    def __init__(self,adi,cinsi,yas):\n",
    "        self.adi = adi\n",
    "        self.cinsi = cinsi\n",
    "        self.yas = yas\n",
    "        self.asi = False \n",
    "\n",
    "    def bilgiGetir(self):\n",
    "        print(self.adi)\n",
    "        print(self.cinsi)\n",
    "        print(self.yas)\n",
    "    \n",
    "    def asiOlduMu(self):\n",
    "        print(\"Aşı Oldu\" if self.asi else \"Aşı Olmamış\")\n",
    "        return self.asi\n",
    "\n",
    "    def asiYap(self):\n",
    "        self.asi = True\n",
    "        return True\n",
    "    \n",
    "k1 = Kedi(\"Melek\",\"Tekir\",10)\n",
    "k2 = Kedi(\"Badem\",\"Tekir\",8)\n",
    "k3 = Kedi(\"Kirli\",\"British\",4)\n",
    "k1.asiOlduMu()"
   ]
  },
  {
   "cell_type": "code",
   "execution_count": 2,
   "metadata": {},
   "outputs": [
    {
     "name": "stdout",
     "output_type": "stream",
     "text": [
      "Aşı Oldu\n"
     ]
    },
    {
     "data": {
      "text/plain": [
       "True"
      ]
     },
     "execution_count": 2,
     "metadata": {},
     "output_type": "execute_result"
    }
   ],
   "source": [
    "k1.asiYap()\n",
    "k1.asiOlduMu()"
   ]
  },
  {
   "cell_type": "code",
   "execution_count": 3,
   "metadata": {},
   "outputs": [
    {
     "name": "stdout",
     "output_type": "stream",
     "text": [
      "Aşı Olmamış\n"
     ]
    },
    {
     "data": {
      "text/plain": [
       "False"
      ]
     },
     "execution_count": 3,
     "metadata": {},
     "output_type": "execute_result"
    }
   ],
   "source": [
    "k2.asiOlduMu()"
   ]
  },
  {
   "cell_type": "code",
   "execution_count": null,
   "metadata": {},
   "outputs": [],
   "source": []
  }
 ],
 "metadata": {
  "kernelspec": {
   "display_name": "Python 3",
   "language": "python",
   "name": "python3"
  },
  "language_info": {
   "codemirror_mode": {
    "name": "ipython",
    "version": 3
   },
   "file_extension": ".py",
   "mimetype": "text/x-python",
   "name": "python",
   "nbconvert_exporter": "python",
   "pygments_lexer": "ipython3",
   "version": "3.12.4"
  }
 },
 "nbformat": 4,
 "nbformat_minor": 2
}
