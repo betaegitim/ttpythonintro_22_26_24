{
 "cells": [
  {
   "cell_type": "markdown",
   "metadata": {},
   "source": [
    "`*,-,+,/,//,%,**`<br>\n",
    "Yukarıda yer alan operatörlerin bir fonksiyon olarak tanımlanıp her bir fonksiyon içerisinden *return* deyimi ile işlem sonucu veren fonksiyonlar yazınız"
   ]
  },
  {
   "cell_type": "code",
   "execution_count": null,
   "metadata": {},
   "outputs": [],
   "source": [
    "def carpma(a,b):\n",
    "    return a * b\n",
    "\n",
    "def cikarma(a,b):\n",
    "    return a - b\n",
    "\n",
    "def toplama(a,b):\n",
    "    return a + b\n",
    "\n",
    "def bolme(a,b):\n",
    "    return a / b\n",
    "\n",
    "def tambolum(a,b):\n",
    "    return a // b\n",
    "\n",
    "def modulus(a,b):\n",
    "    return a % b\n",
    "\n",
    "def kuvvet(a,b):\n",
    "    return a**b"
   ]
  }
 ],
 "metadata": {
  "kernelspec": {
   "display_name": "Python 3",
   "language": "python",
   "name": "python3"
  },
  "language_info": {
   "name": "python",
   "version": "3.12.4"
  }
 },
 "nbformat": 4,
 "nbformat_minor": 2
}
