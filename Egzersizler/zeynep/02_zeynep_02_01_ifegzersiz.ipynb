{
 "cells": [
  {
   "cell_type": "markdown",
   "metadata": {},
   "source": [
    "Kullanıcıdan yaş bilgisinin alınarak 18 yaşından büyük ise ekrana oy kullanabilir ifadesinin yazılmasını sağlayan python kodunu yazınız"
   ]
  },
  {
   "cell_type": "code",
   "execution_count": null,
   "metadata": {},
   "outputs": [],
   "source": []
  },
  {
   "cell_type": "code",
   "execution_count": 3,
   "metadata": {},
   "outputs": [
    {
     "name": "stdout",
     "output_type": "stream",
     "text": [
      "Oy Kullanabilir\n"
     ]
    }
   ],
   "source": [
    "yas = input(\"Yaşınızı Giriniz:\")\n",
    "if yas and yas.isdigit():\n",
    "    yas = int(yas)\n",
    "    if yas >= 18:\n",
    "        print(\"Oy Kullanabilir\")\n",
    "    else:\n",
    "        print(\"Oy Kullananaz\")\n",
    "else:\n",
    "    print(\"Giriş Hatası\")\n"
   ]
  },
  {
   "cell_type": "markdown",
   "metadata": {},
   "source": [
    "Bir e-ticaret sitesinden alışveriş yapan bir kullanıcının sipariş tutarına göre kargo ücretini hesaplayan bir program yazınız.\n",
    "\n",
    "Koşullar:\n",
    "\n",
    "* 0 TL - 100 TL arası siparişler için 15 TL kargo ücreti\n",
    "* 100 TL - 200 TL arası siparişler için 10 TL kargo ücreti\n",
    "* 200 TL ve üzeri siparişler için ücretsiz kargo\n"
   ]
  },
  {
   "cell_type": "code",
   "execution_count": null,
   "metadata": {},
   "outputs": [],
   "source": []
  }
 ],
 "metadata": {
  "kernelspec": {
   "display_name": "Python 3",
   "language": "python",
   "name": "python3"
  },
  "language_info": {
   "codemirror_mode": {
    "name": "ipython",
    "version": 3
   },
   "file_extension": ".py",
   "mimetype": "text/x-python",
   "name": "python",
   "nbconvert_exporter": "python",
   "pygments_lexer": "ipython3",
   "version": "3.12.4"
  }
 },
 "nbformat": 4,
 "nbformat_minor": 2
}
