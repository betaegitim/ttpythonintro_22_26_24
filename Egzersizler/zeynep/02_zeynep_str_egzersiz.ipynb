{
 "cells": [
  {
   "cell_type": "markdown",
   "metadata": {},
   "source": [
    "1. Kullanıcıdan input fonksiyonu ile ismini yazmasını isteyip bir değişkene aktarınız\n",
    "2. Bu değişkeni kullanarak aldığınız ismi büyük harfe çeviriniz\n",
    "3. Bu değişkeni kullanarak aldığınız ismi küçük harfe çeviriniz"
   ]
  },
  {
   "cell_type": "code",
   "execution_count": null,
   "metadata": {},
   "outputs": [],
   "source": []
  },
  {
   "cell_type": "code",
   "execution_count": 5,
   "metadata": {},
   "outputs": [
    {
     "name": "stdout",
     "output_type": "stream",
     "text": [
      "ZEYNEP zeynep\n"
     ]
    }
   ],
   "source": [
    "giris = input(\"Isminizi Giriniz:\")\n",
    "#print(\"Isminiz:\",giris)\n",
    "a= giris.upper()\n",
    "b= giris.lower()\n",
    "print(a,b)"
   ]
  }
 ],
 "metadata": {
  "kernelspec": {
   "display_name": "Python 3",
   "language": "python",
   "name": "python3"
  },
  "language_info": {
   "codemirror_mode": {
    "name": "ipython",
    "version": 3
   },
   "file_extension": ".py",
   "mimetype": "text/x-python",
   "name": "python",
   "nbconvert_exporter": "python",
   "pygments_lexer": "ipython3",
   "version": "3.10.12"
  }
 },
 "nbformat": 4,
 "nbformat_minor": 2
}
