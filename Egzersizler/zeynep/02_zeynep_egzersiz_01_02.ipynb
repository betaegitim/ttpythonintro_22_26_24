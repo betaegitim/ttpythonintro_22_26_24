{
 "cells": [
  {
   "cell_type": "markdown",
   "metadata": {},
   "source": [
    "1. Türk Telekom isminin harflerinden oluşan bir listede ilk 3 elemanı ekrana yazdırınız\n",
    "2. listenin baş tarafına TT harflerini ekleyiniz"
   ]
  },
  {
   "cell_type": "code",
   "execution_count": 1,
   "metadata": {},
   "outputs": [
    {
     "name": "stdout",
     "output_type": "stream",
     "text": [
      "['T', 'ü', 'r']\n",
      "['TT', 'T', 'ü', 'r', 'k', 'T', 'e', 'l', 'e', 'k', 'o', 'm']\n"
     ]
    }
   ],
   "source": [
    "liste = ['T', 'ü', 'r', 'k', 'T', 'e', 'l', 'e', 'k', 'o', 'm']\n",
    "print(liste[0:3])\n",
    "liste.insert(0, \"TT\")\n",
    "print(liste)\n",
    "#liste"
   ]
  },
  {
   "cell_type": "markdown",
   "metadata": {},
   "source": []
  },
  {
   "cell_type": "code",
   "execution_count": null,
   "metadata": {},
   "outputs": [],
   "source": []
  }
 ],
 "metadata": {
  "kernelspec": {
   "display_name": "Python 3",
   "language": "python",
   "name": "python3"
  },
  "language_info": {
   "codemirror_mode": {
    "name": "ipython",
    "version": 3
   },
   "file_extension": ".py",
   "mimetype": "text/x-python",
   "name": "python",
   "nbconvert_exporter": "python",
   "pygments_lexer": "ipython3",
   "version": "3.10.12"
  }
 },
 "nbformat": 4,
 "nbformat_minor": 2
}
