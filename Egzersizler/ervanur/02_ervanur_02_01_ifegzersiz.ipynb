{
 "cells": [
  {
   "cell_type": "markdown",
   "metadata": {},
   "source": [
    "Kullanıcıdan yaş bilgisinin alınarak 18 yaşından büyük ise ekrana oy kullanabilir ifadesinin yazılmasını sağlayan python kodunu yazınız"
   ]
  },
  {
   "cell_type": "code",
   "execution_count": 3,
   "metadata": {},
   "outputs": [
    {
     "name": "stdout",
     "output_type": "stream",
     "text": [
      "Oy Kullanabilir\n"
     ]
    }
   ],
   "source": [
    "yas = input(\"Yaşınızı Giriniz:\")\n",
    "if yas and yas.isdigit():\n",
    "    yas = int(yas)\n",
    "    if yas >= 18:\n",
    "        print(\"Oy Kullanabilir\")\n",
    "    else:\n",
    "        print(\"Oy Kullananaz\")\n",
    "else:\n",
    "    print(\"Giriş Hatası\")\n"
   ]
  },
  {
   "cell_type": "markdown",
   "metadata": {},
   "source": [
    "Bir e-ticaret sitesinden alışveriş yapan bir kullanıcının sipariş tutarına göre kargo ücretini hesaplayan bir program yazınız.\n",
    "\n",
    "Koşullar:\n",
    "\n",
    "* 0 TL - 100 TL arası siparişler için 15 TL kargo ücreti\n",
    "* 100 TL - 200 TL arası siparişler için 10 TL kargo ücreti\n",
    "* 200 TL ve üzeri siparişler için ücretsiz kargo\n"
   ]
  },
  {
   "cell_type": "code",
   "execution_count": 26,
   "metadata": {},
   "outputs": [
    {
     "name": "stdout",
     "output_type": "stream",
     "text": [
      "Sipariş tutarı: 12.0 TL Kargo ücreti: 15 TL\n"
     ]
    }
   ],
   "source": [
    "def kargo_ucreti_hesapla(siparis_tutari):\n",
    "    if siparis_tutari < 0:\n",
    "        return \"Geçersiz sipariş tutarı\"\n",
    "    elif siparis_tutari < 100:\n",
    "        kargo_ucreti = 15\n",
    "    elif siparis_tutari < 200:\n",
    "        kargo_ucreti = 10\n",
    "    else:\n",
    "        kargo_ucreti = 0\n",
    "    return kargo_ucreti\n",
    "\n",
    "siparis_tutari = float(input(\"Sipariş Tutarını Giriniz:\"))\n",
    "kargo_ucreti = kargo_ucreti_hesapla(siparis_tutari)\n",
    "print(\"Sipariş tutarı:\", siparis_tutari , \"TL\",\"Kargo ücreti:\", kargo_ucreti,\"TL\")"
   ]
  }
 ],
 "metadata": {
  "kernelspec": {
   "display_name": "Python 3",
   "language": "python",
   "name": "python3"
  },
  "language_info": {
   "codemirror_mode": {
    "name": "ipython",
    "version": 3
   },
   "file_extension": ".py",
   "mimetype": "text/x-python",
   "name": "python",
   "nbconvert_exporter": "python",
   "pygments_lexer": "ipython3",
   "version": "3.10.12"
  }
 },
 "nbformat": 4,
 "nbformat_minor": 2
}
