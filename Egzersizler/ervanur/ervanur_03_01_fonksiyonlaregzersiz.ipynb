{
 "cells": [
  {
   "cell_type": "markdown",
   "metadata": {},
   "source": [
    "`*,-,+,/,//,%,**`<br>\n",
    "Yukarıda yer alan operatörlerin bir fonksiyon olarak tanımlanıp her bir fonksiyon içerisinden *return* deyimi ile işlem sonucu veren fonksiyonlar yazınız"
   ]
  },
  {
   "cell_type": "code",
   "execution_count": 2,
   "metadata": {},
   "outputs": [
    {
     "name": "stdout",
     "output_type": "stream",
     "text": [
      "11\n",
      "30\n",
      "2.5\n"
     ]
    }
   ],
   "source": [
    "def topla(a, b):\n",
    "    return a + b\n",
    "\n",
    "def cikart(a, b):\n",
    "    return a - b\n",
    "\n",
    "def carp(a, b):\n",
    "    return a * b\n",
    "\n",
    "def bol(a, b):\n",
    "    if b != 0:\n",
    "        return a / b\n",
    "    else:\n",
    "        return \"Sıfıra bölmek yasaktır\"\n",
    "\n",
    "\n",
    "\n",
    "def power(a, b):\n",
    "    return a ** b\n",
    "\n",
    "\n",
    "print(topla(5,6))\n",
    "print(carp(5,6))\n",
    "print(bol(15,6))"
   ]
  }
 ],
 "metadata": {
  "kernelspec": {
   "display_name": "Python 3",
   "language": "python",
   "name": "python3"
  },
  "language_info": {
   "codemirror_mode": {
    "name": "ipython",
    "version": 3
   },
   "file_extension": ".py",
   "mimetype": "text/x-python",
   "name": "python",
   "nbconvert_exporter": "python",
   "pygments_lexer": "ipython3",
   "version": "3.10.12"
  }
 },
 "nbformat": 4,
 "nbformat_minor": 2
}
