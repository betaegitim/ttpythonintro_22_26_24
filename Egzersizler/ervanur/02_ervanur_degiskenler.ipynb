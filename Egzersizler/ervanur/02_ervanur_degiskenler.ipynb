{
 "cells": [
  {
   "cell_type": "code",
   "execution_count": null,
   "metadata": {},
   "outputs": [],
   "source": [
    "Soru : \n",
    "1. Her veri tipine ait belirlediğiniz değer üzerinden değişken tanımı yapınız.\n",
    "2. Bu değişkenlerin tiplerini ekrana yazdırınız"
   ]
  },
  {
   "cell_type": "code",
   "execution_count": null,
   "metadata": {},
   "outputs": [],
   "source": [
    "var1 = 89 # int\n",
    "var2 = 5.0 # float\n",
    "var3 = 5.0 + 2j # complex\n",
    "var4 = \"5\" # str\n",
    "var5 = [5] # list\n",
    "var6 = (5,) # tuple\n",
    "var7 = {5} # set\n",
    "var8 = {\"5\":\"Beş\"} # dict\n",
    "var9 = True # bool"
   ]
  },
  {
   "cell_type": "code",
   "execution_count": null,
   "metadata": {},
   "outputs": [],
   "source": [
    "print(type(var1))\n",
    "print(type(var2))\n",
    "print(type(var3))\n",
    "print(type(var4))\n",
    "print(type(var5))\n",
    "print(type(var6))\n",
    "print(type(var7))\n",
    "print(type(var8))\n",
    "print(type(var9))"
   ]
  }
 ],
 "metadata": {
  "language_info": {
   "name": "python"
  }
 },
 "nbformat": 4,
 "nbformat_minor": 2
}
