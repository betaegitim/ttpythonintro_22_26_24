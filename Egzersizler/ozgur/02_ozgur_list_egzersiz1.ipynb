{
 "cells": [
  {
   "cell_type": "markdown",
   "metadata": {},
   "source": [
    "1. Türk Telekom isminin harflerinden oluşan bir listede ilk 3 elemanı ekrana yazdırınız\n",
    "2. listenin baş tarafına TT harflerini ekleyiniz"
   ]
  },
  {
   "cell_type": "code",
   "execution_count": 2,
   "metadata": {},
   "outputs": [
    {
     "data": {
      "text/plain": [
       "['T', 'ü', 'r', 'k', ' ', 'T', 'e', 'l', 'e', 'k', 'o', 'm']"
      ]
     },
     "execution_count": 2,
     "metadata": {},
     "output_type": "execute_result"
    }
   ],
   "source": [
    "metin = \"Türk Telekom\"\n",
    "list(metin) # tip dönüşümü"
   ]
  },
  {
   "cell_type": "code",
   "execution_count": 3,
   "metadata": {},
   "outputs": [],
   "source": [
    "liste = list(metin)  # ['T', 'ü', 'r', 'k', ' ', 'T', 'e', 'l', 'e', 'k', 'o', 'm']"
   ]
  },
  {
   "cell_type": "code",
   "execution_count": 4,
   "metadata": {},
   "outputs": [
    {
     "data": {
      "text/plain": [
       "['T', 'ü', 'r']"
      ]
     },
     "execution_count": 4,
     "metadata": {},
     "output_type": "execute_result"
    }
   ],
   "source": [
    "liste[0:3]"
   ]
  },
  {
   "cell_type": "code",
   "execution_count": 5,
   "metadata": {},
   "outputs": [],
   "source": [
    "liste.insert(0,\"TT\")"
   ]
  },
  {
   "cell_type": "code",
   "execution_count": 6,
   "metadata": {},
   "outputs": [
    {
     "data": {
      "text/plain": [
       "['TT', 'T', 'ü', 'r', 'k', ' ', 'T', 'e', 'l', 'e', 'k', 'o', 'm']"
      ]
     },
     "execution_count": 6,
     "metadata": {},
     "output_type": "execute_result"
    }
   ],
   "source": [
    "liste"
   ]
  },
  {
   "cell_type": "markdown",
   "metadata": {},
   "source": [
    "`liste = [41, 63, 100, 34, 12, 62, 90, 47, 52]`<br>\n",
    "yukarıda yer alan liste için;<br>\n",
    "1. listenin sonuna 1000 sayısını ekleyiniz\n",
    "2. listenin 2. indisinde yer alan sayıyı siliniz\n",
    "3. listenin 1. indisinde yer alan sayıyı 100 katı ile güncelleyiniz\n",
    "4. listeyi büyükten küçüğe sıralayınız.\n",
    "5. listeyi tersine çevirerek ekrana yazdırınız\n",
    "Beklenen sonuç:\n",
    "[]\n"
   ]
  },
  {
   "cell_type": "code",
   "execution_count": null,
   "metadata": {},
   "outputs": [],
   "source": []
  }
 ],
 "metadata": {
  "kernelspec": {
   "display_name": "Python 3",
   "language": "python",
   "name": "python3"
  },
  "language_info": {
   "codemirror_mode": {
    "name": "ipython",
    "version": 3
   },
   "file_extension": ".py",
   "mimetype": "text/x-python",
   "name": "python",
   "nbconvert_exporter": "python",
   "pygments_lexer": "ipython3",
   "version": "3.12.4"
  }
 },
 "nbformat": 4,
 "nbformat_minor": 2
}
