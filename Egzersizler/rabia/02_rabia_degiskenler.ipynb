{
 "cells": [
  {
   "cell_type": "code",
   "execution_count": 1,
   "metadata": {},
   "outputs": [
    {
     "name": "stdout",
     "output_type": "stream",
     "text": [
      "<class 'int'>\n",
      "<class 'float'>\n",
      "<class 'complex'>\n",
      "<class 'str'>\n",
      "<class 'list'>\n",
      "<class 'tuple'>\n",
      "<class 'set'>\n",
      "<class 'dict'>\n",
      "<class 'bool'>\n"
     ]
    }
   ],
   "source": [
    "var_i = 2 # int\n",
    "var_f= 2.0 # float\n",
    "var_c = 2.0 + 3j # complex\n",
    "var_s = \"merhaba\" # str\n",
    "var_l = [2] # list\n",
    "var_t = (2,) # tuple\n",
    "var_ = {2} # set\n",
    "var8 = {\"2\":\"İki\"} # dict\n",
    "var9 = True # bool\n",
    "print(type(var1))\n",
    "print(type(var2))\n",
    "print(type(var3))\n",
    "print(type(var4))\n",
    "print(type(var5))\n",
    "print(type(var6))\n",
    "print(type(var7))\n",
    "print(type(var8))\n",
    "print(type(var9))"
   ]
  }
 ],
 "metadata": {
  "kernelspec": {
   "display_name": "Python 3",
   "language": "python",
   "name": "python3"
  },
  "language_info": {
   "codemirror_mode": {
    "name": "ipython",
    "version": 3
   },
   "file_extension": ".py",
   "mimetype": "text/x-python",
   "name": "python",
   "nbconvert_exporter": "python",
   "pygments_lexer": "ipython3",
   "version": "3.12.4"
  }
 },
 "nbformat": 4,
 "nbformat_minor": 2
}
