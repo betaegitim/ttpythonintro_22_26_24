{
 "cells": [
  {
   "cell_type": "markdown",
   "metadata": {},
   "source": [
    "1. Kullanıcıdan input fonksiyonu ile ismini yazmasını isteyip bir değişkene aktarınız\n",
    "2. Bu değişkeni kullanarak aldığınız ismi büyük harfe çeviriniz\n",
    "3. Bu değişkeni kullanarak aldığınız ismi küçük harfe çeviriniz"
   ]
  },
  {
   "cell_type": "code",
   "execution_count": 3,
   "metadata": {},
   "outputs": [
    {
     "name": "stdout",
     "output_type": "stream",
     "text": [
      "rabia\n",
      "Rabia\n",
      "RABIA\n",
      "rabia\n"
     ]
    }
   ],
   "source": [
    "isim=input(\"adınızı giriniz\")\n",
    "print(isim)\n",
    "print(isim.capitalize())\n",
    "print(isim.upper())\n",
    "print(isim.lower()), "
   ]
  }
 ],
 "metadata": {
  "kernelspec": {
   "display_name": "Python 3",
   "language": "python",
   "name": "python3"
  },
  "language_info": {
   "codemirror_mode": {
    "name": "ipython",
    "version": 3
   },
   "file_extension": ".py",
   "mimetype": "text/x-python",
   "name": "python",
   "nbconvert_exporter": "python",
   "pygments_lexer": "ipython3",
   "version": "3.12.4"
  }
 },
 "nbformat": 4,
 "nbformat_minor": 2
}
