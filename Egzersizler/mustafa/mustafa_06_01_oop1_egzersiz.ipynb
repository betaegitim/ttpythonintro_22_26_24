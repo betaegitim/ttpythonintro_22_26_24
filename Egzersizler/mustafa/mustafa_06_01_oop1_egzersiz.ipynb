{
 "cells": [
  {
   "cell_type": "markdown",
   "metadata": {},
   "source": [
    "Evinizde 5 kedi beslediğinizi,bu kedilerle ilgili bir kayıt defteri tutmak için OOP kurallarından faydalandığınızı düşünerek bir örnek yazalım\n"
   ]
  },
  {
   "cell_type": "code",
   "execution_count": null,
   "metadata": {},
   "outputs": [],
   "source": []
  }
 ],
 "metadata": {
  "language_info": {
   "name": "python"
  }
 },
 "nbformat": 4,
 "nbformat_minor": 2
}
